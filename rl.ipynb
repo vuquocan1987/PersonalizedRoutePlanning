{
 "cells": [
  {
   "cell_type": "code",
   "execution_count": 162,
   "metadata": {},
   "outputs": [],
   "source": [
    "import openrouteservice\n",
    "my_token=\"\"\n",
    "coords = ((8.34234,48.23424),(8.34423,48.26424))\n",
    "\n",
    "client = openrouteservice.Client(key=my_token) # Specify your personal API key\n",
    "\n",
    "# we need 2 lists because because the names for API and returned values are different\n",
    "\n",
    "# https://giscience.github.io/openrouteservice/api-reference/endpoints/directions/extra-info/\n",
    "\n",
    "attributes_list = [\n",
    "    \"surface\",\n",
    "    \"waytype\",\n",
    "    \"steepness\",\n",
    "    \"tollways\",\n",
    "    \"traildifficulty\",\n",
    "    \"roadaccessrestrictions\",\n",
    "]\n",
    "\n",
    "attribute_name = [\n",
    "    \"surface\",\n",
    "    \"waytypes\",\n",
    "    \"steepness\",\n",
    "    \"tollways\",\n",
    "    \"traildifficulty\",\n",
    "    \"roadaccessrestrictions\",\n",
    "]\n",
    "# surface\n",
    "# waytypes\n",
    "# steepness\n",
    "# roadaccessrestrictions\n",
    "# traildifficulty\n",
    "# tollways\n"
   ]
  },
  {
   "cell_type": "code",
   "execution_count": 163,
   "metadata": {},
   "outputs": [],
   "source": [
    "# mapping the points and its attributes and include the score\n",
    "def calculate_route_score(option_attribute):\n",
    "    \"\"\"\n",
    "    Calculate the score of a route based on user preferences.\n",
    "    Lower scores indicate better routes.\n",
    "    \n",
    "    Args:\n",
    "        option_attribute (dict): Attributes of a route.\n",
    "        \n",
    "    Returns:\n",
    "        float: The score of the route.\n",
    "    \"\"\"\n",
    "    # Get attribute arrays\n",
    "    distances = np.array(option_attribute['distances'])\n",
    "    steepness = np.array(option_attribute['steepness'])\n",
    "    waytypes = np.array(option_attribute['waytypes'])  # Categorical, can be weighted if needed\n",
    "    surfaces = np.array(option_attribute['surface'])   # Categorical, can be weighted if needed\n",
    "    \n",
    "    # Example scoring (modify weights as needed):\n",
    "    distance_score = np.sum(distances)  # Total distance\n",
    "    steepness_score = np.mean(steepness)  # Average steepness\n",
    "    waytype_score = np.mean(waytypes)  # Aggregate waytype value (if needed)\n",
    "    surface_score = np.mean(surfaces)  # Aggregate surface value (if needed)\n",
    "\n",
    "    # Combine with weights (adjust based on importance)\n",
    "    # score = distance_score * (steepness_score + waytype_score + surface_score)\n",
    "    score = - distance_score * waytype_score\n",
    "\n",
    "    return score\n",
    "import haversine as hs\n",
    "def get_linelists(route):\n",
    "    linelists = []\n",
    "    for i in range(len(routes['features'])):\n",
    "        route = routes['features'][i]\n",
    "        linelist = []\n",
    "        coordinates = route['geometry']['coordinates']\n",
    "        for j in range(len(coordinates)-1):\n",
    "            linelist.append(hs.haversine(coordinates[j], coordinates[j+1]))\n",
    "        linelists.append(linelist)\n",
    "    return linelists\n",
    "\n",
    "# get the steepness and waytype\n",
    "\n",
    "# flatten the steepness and waytype\n",
    "# steepness in ors is using run length encoding flatten is needed\n",
    "def flatten_encoding(data):\n",
    "    # Calculate the length of the decoded data based on the largest end index in the input\n",
    "    len_data = max(part[1] for part in data)\n",
    "    decoded_data = [None] * len_data\n",
    "\n",
    "    # Populate decoded_data based on the start, end, and value in each part\n",
    "    for part in data:\n",
    "        start, end, value = part\n",
    "        for i in range(start, end):\n",
    "            decoded_data[i] = value\n",
    "    return decoded_data\n",
    "\n",
    "def flattens_attributes(routes):\n",
    "    option_attributes = []\n",
    "    for option_data in routes['features']:\n",
    "        attributes_dict = {attr:None for attr in attribute_name}\n",
    "        attributes_dict['distances'] = None\n",
    "        for attr in attribute_name:\n",
    "            values = option_data['properties']['extras'][attr]['values']\n",
    "            values = flatten_encoding(values)\n",
    "            attributes_dict[attr] = values\n",
    "        coords = option_data['geometry']['coordinates']\n",
    "        distances = [hs.haversine(coords[i], coords[i+1]) for i in range(len(coords)-1)]\n",
    "        attributes_dict['distances'] = distances\n",
    "        option_attributes.append(attributes_dict)\n",
    "    route_scores = [calculate_route_score(option_attribute) for option_attribute in option_attributes]\n",
    "    best_route_index = np.argmin(route_scores)\n",
    "    return (option_attributes, best_route_index)\n",
    "\n",
    "# standardize the data and prepare for training.\n",
    "def standardize_data(option_attribute):\n",
    "    steepness = np.array(option_attribute['steepness'])\n",
    "    steepness = steepness / 5\n",
    "    steepness = steepness.reshape(-1,1)\n",
    "    waytypes = np.array(option_attribute['waytypes'])\n",
    "    waytypes = np.eye(11)[waytypes]\n",
    "    distances = np.array(option_attribute['distances'])\n",
    "    distances = distances.reshape(-1,1)\n",
    "    surfaces = np.array(option_attribute['surface'])\n",
    "    surfaces = np.eye(19)[surfaces]\n",
    "    # change the data to row\n",
    "    # stacking the data\n",
    "    row_data = np.hstack([steepness, waytypes, surfaces, distances])\n",
    "    return row_data"
   ]
  },
  {
   "cell_type": "code",
   "execution_count": 164,
   "metadata": {},
   "outputs": [],
   "source": [
    "import random\n",
    "import pandas as pd\n",
    "from openrouteservice.exceptions import ApiError\n",
    "import json\n",
    "import os\n",
    "# oulubox\n",
    "oulu_box = [[25.0, 64.9], [25.8, 65.2]]\n",
    "\n",
    "# generate 100 random points in oulu box and 1000 random routes from those points\n",
    "\n",
    "pois = pd.read_csv(\"data/points_of_interest_oulu_with_names.csv\")\n",
    "pois.columns\n",
    "pois = pois[[\"longitude\",\"latitude\"]]\n",
    "pois = pois.values.tolist()\n",
    "def generate_random_routes(num_routes, points):\n",
    "    # get 2 random points\n",
    "    point_routes = []\n",
    "    for i in range(num_routes):\n",
    "        start = random.choice(points)\n",
    "        end = random.choice(points)\n",
    "        point_routes.append((start, end))\n",
    "    return point_routes\n",
    "\n",
    "\n",
    "routes = generate_random_routes(1000, pois)\n",
    "\n",
    "# get the attributes of the routes and store in a json file\n",
    "# add time sleep to avoid rate limit\n",
    "import time\n",
    "\n",
    "\n",
    "def query_routes(trips):\n",
    "    routes = []\n",
    "    count = 0\n",
    "    for trip in trips:\n",
    "        # flip the coordinates\n",
    "        count += 1\n",
    "        # this follow geojson standard [longitude, latitude]\n",
    "        try:\n",
    "            route = client.directions(trip,\n",
    "                            profile='driving-car',\n",
    "                            format='geojson',\n",
    "                            extra_info=attributes_list,\n",
    "                            instructions_format='html',\n",
    "                            alternative_routes= {\"share_factor\": 0.8,\"weight_factor\": 2,\"target_count\": 3},\n",
    "                            )\n",
    "        except ApiError as e:\n",
    "            print(e)\n",
    "            continue\n",
    "        time.sleep(1)\n",
    "        routes.append(route)\n",
    "        print(count)\n",
    "    return routes\n",
    "data_path = \"data/routes.json\"\n",
    "if os.path.exists(data_path):\n",
    "    with open(data_path, \"r\") as f:\n",
    "        all_routes = json.load(f)\n",
    "else:\n",
    "    all_routes = query_routes(routes)\n",
    "    with open(data_path, \"w\") as f:\n",
    "        json.dump(all_routes, f)\n",
    "# write all routes to a json file\n",
    "\n"
   ]
  },
  {
   "cell_type": "code",
   "execution_count": 165,
   "metadata": {},
   "outputs": [
    {
     "name": "stdout",
     "output_type": "stream",
     "text": [
      "628\n",
      "all the input array dimensions for the concatenation axis must match exactly, but along dimension 0, the array at index 0 has size 84 and the array at index 1 has size 111\n",
      "all the input array dimensions for the concatenation axis must match exactly, but along dimension 0, the array at index 0 has size 157 and the array at index 1 has size 192\n",
      "all the input array dimensions for the concatenation axis must match exactly, but along dimension 0, the array at index 0 has size 87 and the array at index 1 has size 126\n",
      "all the input array dimensions for the concatenation axis must match exactly, but along dimension 0, the array at index 0 has size 10 and the array at index 1 has size 53\n",
      "all the input array dimensions for the concatenation axis must match exactly, but along dimension 0, the array at index 0 has size 385 and the array at index 1 has size 497\n"
     ]
    }
   ],
   "source": [
    "# count number of routes that have 2 or less alternative routes\n",
    "# filter out all routes that have 2 or less alternative routes\n",
    "import random\n",
    "counts = []\n",
    "filter_routes = []\n",
    "for route in all_routes:\n",
    "    if len(route['features']) == 3:\n",
    "        filter_routes.append(route)\n",
    "print(len(filter_routes))\n",
    "\n",
    "# get the attributes of the routes\n",
    "routes_info = [flattens_attributes(route) for route in filter_routes]\n",
    "\n",
    "# standardize the data\n",
    "\n",
    "standardize_info = []\n",
    "for options_attributes, best_route_index in routes_info:\n",
    "    std_option_attributes = []\n",
    "    try:\n",
    "        for option_attributes in options_attributes:\n",
    "            std_data = standardize_data(option_attributes)\n",
    "            # check size of the data\n",
    "            std_option_attributes.append(std_data)\n",
    "    except Exception as e:\n",
    "        print(e)\n",
    "        continue\n",
    "    standardize_info.append((std_option_attributes, best_route_index))"
   ]
  },
  {
   "cell_type": "code",
   "execution_count": 166,
   "metadata": {},
   "outputs": [],
   "source": [
    "# design the model\n",
    "import torch\n",
    "import torch.nn as nn\n",
    "import torch.optim as optim\n",
    "import numpy as np\n",
    "input_size = 11 + 1 + 19\n",
    "class SegmentQualityModel(nn.Module):\n",
    "    def __init__(self, input_size, hidden_size):\n",
    "        super(SegmentQualityModel, self).__init__()\n",
    "        self.fc1 = nn.Linear(input_size, hidden_size)\n",
    "        self.relu = nn.ReLU()\n",
    "        self.fc2 = nn.Linear(hidden_size, 1)\n",
    "    def forward(self, x, length):\n",
    "        out = self.fc1(x)\n",
    "        out = self.relu(out)\n",
    "        out = self.fc2(out)\n",
    "        out = out * length\n",
    "        return out\n",
    "    \n",
    "def user_prefer_distance(x):\n",
    "    # return last column as scalar\n",
    "    return x[:,-1]"
   ]
  },
  {
   "cell_type": "code",
   "execution_count": 167,
   "metadata": {},
   "outputs": [],
   "source": [
    "def simulate_user_preference_distance(options_attributes):\n",
    "    \"\"\"\n",
    "    Simulate user preference based on the total distance of routes.\n",
    "    \n",
    "    Args:\n",
    "        options_attributes (list of list of lists): A batch of routes.\n",
    "            Each route is a list of segments, where each segment is a list of attributes,\n",
    "            and the first attribute is assumed to be the segment distance.\n",
    "    \n",
    "    Returns:\n",
    "        int: The index of the user-preferred route (route with the smallest total distance).\n",
    "    \"\"\"\n",
    "    total_distances = []  # To store total distances for each route\n",
    "\n",
    "    for route_segments in options_attributes:\n",
    "        # Calculate the total distance for the route\n",
    "        total_distance = sum(segment[0] for segment in route_segments)  # Assuming distance is the first attribute\n",
    "        total_distances.append(total_distance)\n",
    "\n",
    "    # Find the index of the route with the smallest total distance\n",
    "    user_preferred_route_index = torch.argmin(torch.tensor(total_distances)).item()\n",
    "\n",
    "    return user_preferred_route_index"
   ]
  },
  {
   "cell_type": "code",
   "execution_count": 168,
   "metadata": {},
   "outputs": [
    {
     "name": "stderr",
     "output_type": "stream",
     "text": [
      "100%|██████████| 32/32 [00:00<00:00, 173.14it/s]\n"
     ]
    },
    {
     "name": "stdout",
     "output_type": "stream",
     "text": [
      "Epoch [1/100], Loss: 3.0253\n"
     ]
    },
    {
     "name": "stderr",
     "output_type": "stream",
     "text": [
      "100%|██████████| 32/32 [00:00<00:00, 177.69it/s]\n"
     ]
    },
    {
     "name": "stdout",
     "output_type": "stream",
     "text": [
      "Epoch [2/100], Loss: 3.0000\n"
     ]
    },
    {
     "name": "stderr",
     "output_type": "stream",
     "text": [
      "100%|██████████| 32/32 [00:00<00:00, 179.65it/s]\n"
     ]
    },
    {
     "name": "stdout",
     "output_type": "stream",
     "text": [
      "Epoch [3/100], Loss: 3.0212\n"
     ]
    },
    {
     "name": "stderr",
     "output_type": "stream",
     "text": [
      "100%|██████████| 32/32 [00:00<00:00, 181.70it/s]\n"
     ]
    },
    {
     "name": "stdout",
     "output_type": "stream",
     "text": [
      "Epoch [4/100], Loss: 3.0058\n"
     ]
    },
    {
     "name": "stderr",
     "output_type": "stream",
     "text": [
      "100%|██████████| 32/32 [00:00<00:00, 179.85it/s]\n"
     ]
    },
    {
     "name": "stdout",
     "output_type": "stream",
     "text": [
      "Epoch [5/100], Loss: 3.0039\n"
     ]
    },
    {
     "name": "stderr",
     "output_type": "stream",
     "text": [
      "100%|██████████| 32/32 [00:00<00:00, 180.07it/s]\n"
     ]
    },
    {
     "name": "stdout",
     "output_type": "stream",
     "text": [
      "Epoch [6/100], Loss: 3.0000\n"
     ]
    },
    {
     "name": "stderr",
     "output_type": "stream",
     "text": [
      "100%|██████████| 32/32 [00:00<00:00, 181.56it/s]\n"
     ]
    },
    {
     "name": "stdout",
     "output_type": "stream",
     "text": [
      "Epoch [7/100], Loss: 3.0000\n"
     ]
    },
    {
     "name": "stderr",
     "output_type": "stream",
     "text": [
      "100%|██████████| 32/32 [00:00<00:00, 181.32it/s]\n"
     ]
    },
    {
     "name": "stdout",
     "output_type": "stream",
     "text": [
      "Epoch [8/100], Loss: 3.0000\n"
     ]
    },
    {
     "name": "stderr",
     "output_type": "stream",
     "text": [
      "100%|██████████| 32/32 [00:00<00:00, 181.16it/s]\n"
     ]
    },
    {
     "name": "stdout",
     "output_type": "stream",
     "text": [
      "Epoch [9/100], Loss: 3.0000\n"
     ]
    },
    {
     "name": "stderr",
     "output_type": "stream",
     "text": [
      "100%|██████████| 32/32 [00:00<00:00, 180.63it/s]\n"
     ]
    },
    {
     "name": "stdout",
     "output_type": "stream",
     "text": [
      "Epoch [10/100], Loss: 3.0040\n"
     ]
    },
    {
     "name": "stderr",
     "output_type": "stream",
     "text": [
      "100%|██████████| 32/32 [00:00<00:00, 182.68it/s]\n"
     ]
    },
    {
     "name": "stdout",
     "output_type": "stream",
     "text": [
      "Epoch [11/100], Loss: 3.0000\n"
     ]
    },
    {
     "name": "stderr",
     "output_type": "stream",
     "text": [
      "100%|██████████| 32/32 [00:00<00:00, 181.61it/s]\n"
     ]
    },
    {
     "name": "stdout",
     "output_type": "stream",
     "text": [
      "Epoch [12/100], Loss: 3.0002\n"
     ]
    },
    {
     "name": "stderr",
     "output_type": "stream",
     "text": [
      "100%|██████████| 32/32 [00:00<00:00, 153.14it/s]\n"
     ]
    },
    {
     "name": "stdout",
     "output_type": "stream",
     "text": [
      "Epoch [13/100], Loss: 3.0039\n"
     ]
    },
    {
     "name": "stderr",
     "output_type": "stream",
     "text": [
      "100%|██████████| 32/32 [00:00<00:00, 180.95it/s]\n"
     ]
    },
    {
     "name": "stdout",
     "output_type": "stream",
     "text": [
      "Epoch [14/100], Loss: 3.0008\n"
     ]
    },
    {
     "name": "stderr",
     "output_type": "stream",
     "text": [
      "100%|██████████| 32/32 [00:00<00:00, 180.74it/s]\n"
     ]
    },
    {
     "name": "stdout",
     "output_type": "stream",
     "text": [
      "Epoch [15/100], Loss: 3.0000\n"
     ]
    },
    {
     "name": "stderr",
     "output_type": "stream",
     "text": [
      "100%|██████████| 32/32 [00:00<00:00, 181.81it/s]\n"
     ]
    },
    {
     "name": "stdout",
     "output_type": "stream",
     "text": [
      "Epoch [16/100], Loss: 3.0009\n"
     ]
    },
    {
     "name": "stderr",
     "output_type": "stream",
     "text": [
      "100%|██████████| 32/32 [00:00<00:00, 181.66it/s]\n"
     ]
    },
    {
     "name": "stdout",
     "output_type": "stream",
     "text": [
      "Epoch [17/100], Loss: 3.0000\n"
     ]
    },
    {
     "name": "stderr",
     "output_type": "stream",
     "text": [
      "100%|██████████| 32/32 [00:00<00:00, 180.66it/s]\n"
     ]
    },
    {
     "name": "stdout",
     "output_type": "stream",
     "text": [
      "Epoch [18/100], Loss: 3.0000\n"
     ]
    },
    {
     "name": "stderr",
     "output_type": "stream",
     "text": [
      "100%|██████████| 32/32 [00:00<00:00, 181.20it/s]\n"
     ]
    },
    {
     "name": "stdout",
     "output_type": "stream",
     "text": [
      "Epoch [19/100], Loss: 3.0000\n"
     ]
    },
    {
     "name": "stderr",
     "output_type": "stream",
     "text": [
      "100%|██████████| 32/32 [00:00<00:00, 180.55it/s]\n"
     ]
    },
    {
     "name": "stdout",
     "output_type": "stream",
     "text": [
      "Epoch [20/100], Loss: 3.0000\n"
     ]
    },
    {
     "name": "stderr",
     "output_type": "stream",
     "text": [
      "100%|██████████| 32/32 [00:00<00:00, 180.37it/s]\n"
     ]
    },
    {
     "name": "stdout",
     "output_type": "stream",
     "text": [
      "Epoch [21/100], Loss: 3.0000\n"
     ]
    },
    {
     "name": "stderr",
     "output_type": "stream",
     "text": [
      "100%|██████████| 32/32 [00:00<00:00, 177.31it/s]\n"
     ]
    },
    {
     "name": "stdout",
     "output_type": "stream",
     "text": [
      "Epoch [22/100], Loss: 3.0000\n"
     ]
    },
    {
     "name": "stderr",
     "output_type": "stream",
     "text": [
      "100%|██████████| 32/32 [00:00<00:00, 179.93it/s]\n"
     ]
    },
    {
     "name": "stdout",
     "output_type": "stream",
     "text": [
      "Epoch [23/100], Loss: 3.0000\n"
     ]
    },
    {
     "name": "stderr",
     "output_type": "stream",
     "text": [
      "100%|██████████| 32/32 [00:00<00:00, 177.84it/s]\n"
     ]
    },
    {
     "name": "stdout",
     "output_type": "stream",
     "text": [
      "Epoch [24/100], Loss: 3.0000\n"
     ]
    },
    {
     "name": "stderr",
     "output_type": "stream",
     "text": [
      "100%|██████████| 32/32 [00:00<00:00, 180.20it/s]\n"
     ]
    },
    {
     "name": "stdout",
     "output_type": "stream",
     "text": [
      "Epoch [25/100], Loss: 3.0026\n"
     ]
    },
    {
     "name": "stderr",
     "output_type": "stream",
     "text": [
      "100%|██████████| 32/32 [00:00<00:00, 180.66it/s]\n"
     ]
    },
    {
     "name": "stdout",
     "output_type": "stream",
     "text": [
      "Epoch [26/100], Loss: 3.0044\n"
     ]
    },
    {
     "name": "stderr",
     "output_type": "stream",
     "text": [
      "100%|██████████| 32/32 [00:00<00:00, 180.57it/s]\n"
     ]
    },
    {
     "name": "stdout",
     "output_type": "stream",
     "text": [
      "Epoch [27/100], Loss: 3.0000\n"
     ]
    },
    {
     "name": "stderr",
     "output_type": "stream",
     "text": [
      "100%|██████████| 32/32 [00:00<00:00, 180.43it/s]\n"
     ]
    },
    {
     "name": "stdout",
     "output_type": "stream",
     "text": [
      "Epoch [28/100], Loss: 3.0082\n"
     ]
    },
    {
     "name": "stderr",
     "output_type": "stream",
     "text": [
      "100%|██████████| 32/32 [00:00<00:00, 181.59it/s]\n"
     ]
    },
    {
     "name": "stdout",
     "output_type": "stream",
     "text": [
      "Epoch [29/100], Loss: 3.0000\n"
     ]
    },
    {
     "name": "stderr",
     "output_type": "stream",
     "text": [
      "100%|██████████| 32/32 [00:00<00:00, 154.30it/s]\n"
     ]
    },
    {
     "name": "stdout",
     "output_type": "stream",
     "text": [
      "Epoch [30/100], Loss: 3.0028\n"
     ]
    },
    {
     "name": "stderr",
     "output_type": "stream",
     "text": [
      "100%|██████████| 32/32 [00:00<00:00, 181.99it/s]\n"
     ]
    },
    {
     "name": "stdout",
     "output_type": "stream",
     "text": [
      "Epoch [31/100], Loss: 3.0016\n"
     ]
    },
    {
     "name": "stderr",
     "output_type": "stream",
     "text": [
      "100%|██████████| 32/32 [00:00<00:00, 180.48it/s]\n"
     ]
    },
    {
     "name": "stdout",
     "output_type": "stream",
     "text": [
      "Epoch [32/100], Loss: 3.0000\n"
     ]
    },
    {
     "name": "stderr",
     "output_type": "stream",
     "text": [
      "100%|██████████| 32/32 [00:00<00:00, 182.13it/s]\n"
     ]
    },
    {
     "name": "stdout",
     "output_type": "stream",
     "text": [
      "Epoch [33/100], Loss: 3.0178\n"
     ]
    },
    {
     "name": "stderr",
     "output_type": "stream",
     "text": [
      "100%|██████████| 32/32 [00:00<00:00, 180.39it/s]\n"
     ]
    },
    {
     "name": "stdout",
     "output_type": "stream",
     "text": [
      "Epoch [34/100], Loss: 3.0000\n"
     ]
    },
    {
     "name": "stderr",
     "output_type": "stream",
     "text": [
      "100%|██████████| 32/32 [00:00<00:00, 181.89it/s]\n"
     ]
    },
    {
     "name": "stdout",
     "output_type": "stream",
     "text": [
      "Epoch [35/100], Loss: 3.0004\n"
     ]
    },
    {
     "name": "stderr",
     "output_type": "stream",
     "text": [
      "100%|██████████| 32/32 [00:00<00:00, 180.78it/s]\n"
     ]
    },
    {
     "name": "stdout",
     "output_type": "stream",
     "text": [
      "Epoch [36/100], Loss: 3.0011\n"
     ]
    },
    {
     "name": "stderr",
     "output_type": "stream",
     "text": [
      "100%|██████████| 32/32 [00:00<00:00, 180.97it/s]\n"
     ]
    },
    {
     "name": "stdout",
     "output_type": "stream",
     "text": [
      "Epoch [37/100], Loss: 3.0000\n"
     ]
    },
    {
     "name": "stderr",
     "output_type": "stream",
     "text": [
      "100%|██████████| 32/32 [00:00<00:00, 182.79it/s]\n"
     ]
    },
    {
     "name": "stdout",
     "output_type": "stream",
     "text": [
      "Epoch [38/100], Loss: 3.0000\n"
     ]
    },
    {
     "name": "stderr",
     "output_type": "stream",
     "text": [
      "100%|██████████| 32/32 [00:00<00:00, 180.80it/s]\n"
     ]
    },
    {
     "name": "stdout",
     "output_type": "stream",
     "text": [
      "Epoch [39/100], Loss: 3.0000\n"
     ]
    },
    {
     "name": "stderr",
     "output_type": "stream",
     "text": [
      "100%|██████████| 32/32 [00:00<00:00, 181.46it/s]\n"
     ]
    },
    {
     "name": "stdout",
     "output_type": "stream",
     "text": [
      "Epoch [40/100], Loss: 3.0000\n"
     ]
    },
    {
     "name": "stderr",
     "output_type": "stream",
     "text": [
      "100%|██████████| 32/32 [00:00<00:00, 180.56it/s]\n"
     ]
    },
    {
     "name": "stdout",
     "output_type": "stream",
     "text": [
      "Epoch [41/100], Loss: 3.0000\n"
     ]
    },
    {
     "name": "stderr",
     "output_type": "stream",
     "text": [
      "100%|██████████| 32/32 [00:00<00:00, 179.17it/s]\n"
     ]
    },
    {
     "name": "stdout",
     "output_type": "stream",
     "text": [
      "Epoch [42/100], Loss: 3.0087\n"
     ]
    },
    {
     "name": "stderr",
     "output_type": "stream",
     "text": [
      "100%|██████████| 32/32 [00:00<00:00, 179.63it/s]\n"
     ]
    },
    {
     "name": "stdout",
     "output_type": "stream",
     "text": [
      "Epoch [43/100], Loss: 3.0002\n"
     ]
    },
    {
     "name": "stderr",
     "output_type": "stream",
     "text": [
      "100%|██████████| 32/32 [00:00<00:00, 182.59it/s]\n"
     ]
    },
    {
     "name": "stdout",
     "output_type": "stream",
     "text": [
      "Epoch [44/100], Loss: 3.0012\n"
     ]
    },
    {
     "name": "stderr",
     "output_type": "stream",
     "text": [
      "100%|██████████| 32/32 [00:00<00:00, 180.33it/s]\n"
     ]
    },
    {
     "name": "stdout",
     "output_type": "stream",
     "text": [
      "Epoch [45/100], Loss: 3.0101\n"
     ]
    },
    {
     "name": "stderr",
     "output_type": "stream",
     "text": [
      "100%|██████████| 32/32 [00:00<00:00, 181.26it/s]\n"
     ]
    },
    {
     "name": "stdout",
     "output_type": "stream",
     "text": [
      "Epoch [46/100], Loss: 3.0004\n"
     ]
    },
    {
     "name": "stderr",
     "output_type": "stream",
     "text": [
      "100%|██████████| 32/32 [00:00<00:00, 151.96it/s]\n"
     ]
    },
    {
     "name": "stdout",
     "output_type": "stream",
     "text": [
      "Epoch [47/100], Loss: 3.0000\n"
     ]
    },
    {
     "name": "stderr",
     "output_type": "stream",
     "text": [
      "100%|██████████| 32/32 [00:00<00:00, 178.50it/s]\n"
     ]
    },
    {
     "name": "stdout",
     "output_type": "stream",
     "text": [
      "Epoch [48/100], Loss: 3.0000\n"
     ]
    },
    {
     "name": "stderr",
     "output_type": "stream",
     "text": [
      "100%|██████████| 32/32 [00:00<00:00, 180.19it/s]\n"
     ]
    },
    {
     "name": "stdout",
     "output_type": "stream",
     "text": [
      "Epoch [49/100], Loss: 3.0000\n"
     ]
    },
    {
     "name": "stderr",
     "output_type": "stream",
     "text": [
      "100%|██████████| 32/32 [00:00<00:00, 181.47it/s]\n"
     ]
    },
    {
     "name": "stdout",
     "output_type": "stream",
     "text": [
      "Epoch [50/100], Loss: 3.0000\n"
     ]
    },
    {
     "name": "stderr",
     "output_type": "stream",
     "text": [
      "100%|██████████| 32/32 [00:00<00:00, 180.71it/s]\n"
     ]
    },
    {
     "name": "stdout",
     "output_type": "stream",
     "text": [
      "Epoch [51/100], Loss: 3.0049\n"
     ]
    },
    {
     "name": "stderr",
     "output_type": "stream",
     "text": [
      "100%|██████████| 32/32 [00:00<00:00, 181.03it/s]\n"
     ]
    },
    {
     "name": "stdout",
     "output_type": "stream",
     "text": [
      "Epoch [52/100], Loss: 3.0000\n"
     ]
    },
    {
     "name": "stderr",
     "output_type": "stream",
     "text": [
      "100%|██████████| 32/32 [00:00<00:00, 181.59it/s]\n"
     ]
    },
    {
     "name": "stdout",
     "output_type": "stream",
     "text": [
      "Epoch [53/100], Loss: 3.0052\n"
     ]
    },
    {
     "name": "stderr",
     "output_type": "stream",
     "text": [
      "100%|██████████| 32/32 [00:00<00:00, 179.28it/s]\n"
     ]
    },
    {
     "name": "stdout",
     "output_type": "stream",
     "text": [
      "Epoch [54/100], Loss: 3.0000\n"
     ]
    },
    {
     "name": "stderr",
     "output_type": "stream",
     "text": [
      "100%|██████████| 32/32 [00:00<00:00, 181.32it/s]\n"
     ]
    },
    {
     "name": "stdout",
     "output_type": "stream",
     "text": [
      "Epoch [55/100], Loss: 3.0000\n"
     ]
    },
    {
     "name": "stderr",
     "output_type": "stream",
     "text": [
      "100%|██████████| 32/32 [00:00<00:00, 178.54it/s]\n"
     ]
    },
    {
     "name": "stdout",
     "output_type": "stream",
     "text": [
      "Epoch [56/100], Loss: 3.0000\n"
     ]
    },
    {
     "name": "stderr",
     "output_type": "stream",
     "text": [
      "100%|██████████| 32/32 [00:00<00:00, 177.84it/s]\n"
     ]
    },
    {
     "name": "stdout",
     "output_type": "stream",
     "text": [
      "Epoch [57/100], Loss: 3.0000\n"
     ]
    },
    {
     "name": "stderr",
     "output_type": "stream",
     "text": [
      "100%|██████████| 32/32 [00:00<00:00, 180.08it/s]\n"
     ]
    },
    {
     "name": "stdout",
     "output_type": "stream",
     "text": [
      "Epoch [58/100], Loss: 3.0006\n"
     ]
    },
    {
     "name": "stderr",
     "output_type": "stream",
     "text": [
      "100%|██████████| 32/32 [00:00<00:00, 179.28it/s]\n"
     ]
    },
    {
     "name": "stdout",
     "output_type": "stream",
     "text": [
      "Epoch [59/100], Loss: 3.0043\n"
     ]
    },
    {
     "name": "stderr",
     "output_type": "stream",
     "text": [
      "100%|██████████| 32/32 [00:00<00:00, 180.73it/s]\n"
     ]
    },
    {
     "name": "stdout",
     "output_type": "stream",
     "text": [
      "Epoch [60/100], Loss: 3.0010\n"
     ]
    },
    {
     "name": "stderr",
     "output_type": "stream",
     "text": [
      "100%|██████████| 32/32 [00:00<00:00, 180.16it/s]\n"
     ]
    },
    {
     "name": "stdout",
     "output_type": "stream",
     "text": [
      "Epoch [61/100], Loss: 3.0000\n"
     ]
    },
    {
     "name": "stderr",
     "output_type": "stream",
     "text": [
      "100%|██████████| 32/32 [00:00<00:00, 181.47it/s]\n"
     ]
    },
    {
     "name": "stdout",
     "output_type": "stream",
     "text": [
      "Epoch [62/100], Loss: 3.0001\n"
     ]
    },
    {
     "name": "stderr",
     "output_type": "stream",
     "text": [
      "100%|██████████| 32/32 [00:00<00:00, 152.48it/s]\n"
     ]
    },
    {
     "name": "stdout",
     "output_type": "stream",
     "text": [
      "Epoch [63/100], Loss: 3.0018\n"
     ]
    },
    {
     "name": "stderr",
     "output_type": "stream",
     "text": [
      "100%|██████████| 32/32 [00:00<00:00, 181.61it/s]\n"
     ]
    },
    {
     "name": "stdout",
     "output_type": "stream",
     "text": [
      "Epoch [64/100], Loss: 3.0000\n"
     ]
    },
    {
     "name": "stderr",
     "output_type": "stream",
     "text": [
      "100%|██████████| 32/32 [00:00<00:00, 180.55it/s]\n"
     ]
    },
    {
     "name": "stdout",
     "output_type": "stream",
     "text": [
      "Epoch [65/100], Loss: 3.0586\n"
     ]
    },
    {
     "name": "stderr",
     "output_type": "stream",
     "text": [
      "100%|██████████| 32/32 [00:00<00:00, 183.26it/s]\n"
     ]
    },
    {
     "name": "stdout",
     "output_type": "stream",
     "text": [
      "Epoch [66/100], Loss: 3.0000\n"
     ]
    },
    {
     "name": "stderr",
     "output_type": "stream",
     "text": [
      "100%|██████████| 32/32 [00:00<00:00, 181.39it/s]\n"
     ]
    },
    {
     "name": "stdout",
     "output_type": "stream",
     "text": [
      "Epoch [67/100], Loss: 3.0000\n"
     ]
    },
    {
     "name": "stderr",
     "output_type": "stream",
     "text": [
      "100%|██████████| 32/32 [00:00<00:00, 182.99it/s]\n"
     ]
    },
    {
     "name": "stdout",
     "output_type": "stream",
     "text": [
      "Epoch [68/100], Loss: 3.0038\n"
     ]
    },
    {
     "name": "stderr",
     "output_type": "stream",
     "text": [
      "100%|██████████| 32/32 [00:00<00:00, 182.02it/s]\n"
     ]
    },
    {
     "name": "stdout",
     "output_type": "stream",
     "text": [
      "Epoch [69/100], Loss: 3.0000\n"
     ]
    },
    {
     "name": "stderr",
     "output_type": "stream",
     "text": [
      "100%|██████████| 32/32 [00:00<00:00, 181.66it/s]\n"
     ]
    },
    {
     "name": "stdout",
     "output_type": "stream",
     "text": [
      "Epoch [70/100], Loss: 3.0185\n"
     ]
    },
    {
     "name": "stderr",
     "output_type": "stream",
     "text": [
      "100%|██████████| 32/32 [00:00<00:00, 178.62it/s]\n"
     ]
    },
    {
     "name": "stdout",
     "output_type": "stream",
     "text": [
      "Epoch [71/100], Loss: 3.0010\n"
     ]
    },
    {
     "name": "stderr",
     "output_type": "stream",
     "text": [
      "100%|██████████| 32/32 [00:00<00:00, 180.80it/s]\n"
     ]
    },
    {
     "name": "stdout",
     "output_type": "stream",
     "text": [
      "Epoch [72/100], Loss: 3.0003\n"
     ]
    },
    {
     "name": "stderr",
     "output_type": "stream",
     "text": [
      "100%|██████████| 32/32 [00:00<00:00, 179.62it/s]\n"
     ]
    },
    {
     "name": "stdout",
     "output_type": "stream",
     "text": [
      "Epoch [73/100], Loss: 3.0005\n"
     ]
    },
    {
     "name": "stderr",
     "output_type": "stream",
     "text": [
      "100%|██████████| 32/32 [00:00<00:00, 182.69it/s]\n"
     ]
    },
    {
     "name": "stdout",
     "output_type": "stream",
     "text": [
      "Epoch [74/100], Loss: 3.0367\n"
     ]
    },
    {
     "name": "stderr",
     "output_type": "stream",
     "text": [
      "100%|██████████| 32/32 [00:00<00:00, 182.37it/s]\n"
     ]
    },
    {
     "name": "stdout",
     "output_type": "stream",
     "text": [
      "Epoch [75/100], Loss: 3.0141\n"
     ]
    },
    {
     "name": "stderr",
     "output_type": "stream",
     "text": [
      "100%|██████████| 32/32 [00:00<00:00, 182.58it/s]\n"
     ]
    },
    {
     "name": "stdout",
     "output_type": "stream",
     "text": [
      "Epoch [76/100], Loss: 3.0022\n"
     ]
    },
    {
     "name": "stderr",
     "output_type": "stream",
     "text": [
      "100%|██████████| 32/32 [00:00<00:00, 182.43it/s]\n"
     ]
    },
    {
     "name": "stdout",
     "output_type": "stream",
     "text": [
      "Epoch [77/100], Loss: 3.0000\n"
     ]
    },
    {
     "name": "stderr",
     "output_type": "stream",
     "text": [
      "100%|██████████| 32/32 [00:00<00:00, 180.31it/s]\n"
     ]
    },
    {
     "name": "stdout",
     "output_type": "stream",
     "text": [
      "Epoch [78/100], Loss: 3.0086\n"
     ]
    },
    {
     "name": "stderr",
     "output_type": "stream",
     "text": [
      "100%|██████████| 32/32 [00:00<00:00, 182.78it/s]\n"
     ]
    },
    {
     "name": "stdout",
     "output_type": "stream",
     "text": [
      "Epoch [79/100], Loss: 3.0008\n"
     ]
    },
    {
     "name": "stderr",
     "output_type": "stream",
     "text": [
      "100%|██████████| 32/32 [00:00<00:00, 181.69it/s]\n"
     ]
    },
    {
     "name": "stdout",
     "output_type": "stream",
     "text": [
      "Epoch [80/100], Loss: 3.0000\n"
     ]
    },
    {
     "name": "stderr",
     "output_type": "stream",
     "text": [
      "100%|██████████| 32/32 [00:00<00:00, 152.46it/s]\n"
     ]
    },
    {
     "name": "stdout",
     "output_type": "stream",
     "text": [
      "Epoch [81/100], Loss: 3.0000\n"
     ]
    },
    {
     "name": "stderr",
     "output_type": "stream",
     "text": [
      "100%|██████████| 32/32 [00:00<00:00, 181.61it/s]\n"
     ]
    },
    {
     "name": "stdout",
     "output_type": "stream",
     "text": [
      "Epoch [82/100], Loss: 3.0042\n"
     ]
    },
    {
     "name": "stderr",
     "output_type": "stream",
     "text": [
      "100%|██████████| 32/32 [00:00<00:00, 178.93it/s]\n"
     ]
    },
    {
     "name": "stdout",
     "output_type": "stream",
     "text": [
      "Epoch [83/100], Loss: 3.0000\n"
     ]
    },
    {
     "name": "stderr",
     "output_type": "stream",
     "text": [
      "100%|██████████| 32/32 [00:00<00:00, 181.67it/s]\n"
     ]
    },
    {
     "name": "stdout",
     "output_type": "stream",
     "text": [
      "Epoch [84/100], Loss: 3.0000\n"
     ]
    },
    {
     "name": "stderr",
     "output_type": "stream",
     "text": [
      "100%|██████████| 32/32 [00:00<00:00, 181.07it/s]\n"
     ]
    },
    {
     "name": "stdout",
     "output_type": "stream",
     "text": [
      "Epoch [85/100], Loss: 3.0000\n"
     ]
    },
    {
     "name": "stderr",
     "output_type": "stream",
     "text": [
      "100%|██████████| 32/32 [00:00<00:00, 180.95it/s]\n"
     ]
    },
    {
     "name": "stdout",
     "output_type": "stream",
     "text": [
      "Epoch [86/100], Loss: 3.0000\n"
     ]
    },
    {
     "name": "stderr",
     "output_type": "stream",
     "text": [
      "100%|██████████| 32/32 [00:00<00:00, 178.80it/s]\n"
     ]
    },
    {
     "name": "stdout",
     "output_type": "stream",
     "text": [
      "Epoch [87/100], Loss: 3.0062\n"
     ]
    },
    {
     "name": "stderr",
     "output_type": "stream",
     "text": [
      "100%|██████████| 32/32 [00:00<00:00, 181.81it/s]\n"
     ]
    },
    {
     "name": "stdout",
     "output_type": "stream",
     "text": [
      "Epoch [88/100], Loss: 3.0032\n"
     ]
    },
    {
     "name": "stderr",
     "output_type": "stream",
     "text": [
      "100%|██████████| 32/32 [00:00<00:00, 180.26it/s]\n"
     ]
    },
    {
     "name": "stdout",
     "output_type": "stream",
     "text": [
      "Epoch [89/100], Loss: 3.0000\n"
     ]
    },
    {
     "name": "stderr",
     "output_type": "stream",
     "text": [
      "100%|██████████| 32/32 [00:00<00:00, 180.38it/s]\n"
     ]
    },
    {
     "name": "stdout",
     "output_type": "stream",
     "text": [
      "Epoch [90/100], Loss: 3.0010\n"
     ]
    },
    {
     "name": "stderr",
     "output_type": "stream",
     "text": [
      "100%|██████████| 32/32 [00:00<00:00, 182.25it/s]\n"
     ]
    },
    {
     "name": "stdout",
     "output_type": "stream",
     "text": [
      "Epoch [91/100], Loss: 3.0000\n"
     ]
    },
    {
     "name": "stderr",
     "output_type": "stream",
     "text": [
      "100%|██████████| 32/32 [00:00<00:00, 180.58it/s]\n"
     ]
    },
    {
     "name": "stdout",
     "output_type": "stream",
     "text": [
      "Epoch [92/100], Loss: 3.0000\n"
     ]
    },
    {
     "name": "stderr",
     "output_type": "stream",
     "text": [
      "100%|██████████| 32/32 [00:00<00:00, 180.80it/s]\n"
     ]
    },
    {
     "name": "stdout",
     "output_type": "stream",
     "text": [
      "Epoch [93/100], Loss: 3.0018\n"
     ]
    },
    {
     "name": "stderr",
     "output_type": "stream",
     "text": [
      "100%|██████████| 32/32 [00:00<00:00, 182.21it/s]\n"
     ]
    },
    {
     "name": "stdout",
     "output_type": "stream",
     "text": [
      "Epoch [94/100], Loss: 3.0000\n"
     ]
    },
    {
     "name": "stderr",
     "output_type": "stream",
     "text": [
      "100%|██████████| 32/32 [00:00<00:00, 180.04it/s]\n"
     ]
    },
    {
     "name": "stdout",
     "output_type": "stream",
     "text": [
      "Epoch [95/100], Loss: 3.0000\n"
     ]
    },
    {
     "name": "stderr",
     "output_type": "stream",
     "text": [
      "100%|██████████| 32/32 [00:00<00:00, 181.65it/s]\n"
     ]
    },
    {
     "name": "stdout",
     "output_type": "stream",
     "text": [
      "Epoch [96/100], Loss: 3.0032\n"
     ]
    },
    {
     "name": "stderr",
     "output_type": "stream",
     "text": [
      "100%|██████████| 32/32 [00:00<00:00, 179.91it/s]\n"
     ]
    },
    {
     "name": "stdout",
     "output_type": "stream",
     "text": [
      "Epoch [97/100], Loss: 3.0000\n"
     ]
    },
    {
     "name": "stderr",
     "output_type": "stream",
     "text": [
      "100%|██████████| 32/32 [00:00<00:00, 180.35it/s]\n"
     ]
    },
    {
     "name": "stdout",
     "output_type": "stream",
     "text": [
      "Epoch [98/100], Loss: 3.0006\n"
     ]
    },
    {
     "name": "stderr",
     "output_type": "stream",
     "text": [
      "100%|██████████| 32/32 [00:00<00:00, 182.45it/s]\n"
     ]
    },
    {
     "name": "stdout",
     "output_type": "stream",
     "text": [
      "Epoch [99/100], Loss: 3.0029\n"
     ]
    },
    {
     "name": "stderr",
     "output_type": "stream",
     "text": [
      "100%|██████████| 32/32 [00:00<00:00, 152.14it/s]"
     ]
    },
    {
     "name": "stdout",
     "output_type": "stream",
     "text": [
      "Epoch [100/100], Loss: 3.0101\n"
     ]
    },
    {
     "name": "stderr",
     "output_type": "stream",
     "text": [
      "\n"
     ]
    }
   ],
   "source": [
    "from tqdm import tqdm\n",
    "batch_size = 16\n",
    "num_epochs = 100\n",
    "model = SegmentQualityModel(input_size, 8)\n",
    "optimizer = optim.Adam(model.parameters(), lr=0.01)\n",
    "margin = 1.0\n",
    "# hold back 20% of the data for validation\n",
    "test_size = int(len(standardize_info) * 0.2)\n",
    "test_data = standardize_info[:test_size]\n",
    "standardize_info = standardize_info[test_size:]\n",
    "for epoch in range(num_epochs):\n",
    "    random.shuffle(standardize_info)  # Shuffle the data at the start of each epoch\n",
    "    for batch_start in tqdm(range(0, len(standardize_info), batch_size)):\n",
    "        batch_data = standardize_info[batch_start:batch_start + batch_size]  # Get batch\n",
    "\n",
    "        batch_loss = 0.0  # Accumulate loss for the batch\n",
    "\n",
    "        for options_attributes, user_preferred_index in batch_data:\n",
    "            score_routes = []  # List to store total scores for each route\n",
    "\n",
    "            # Process each route in the options\n",
    "            for segments in options_attributes:\n",
    "                # Convert route segments to tensor\n",
    "                segments_tensor = torch.tensor(segments, dtype=torch.float32)  # Shape: (num_segments, input_size)\n",
    "                lengths = segments_tensor[:, -1].unsqueeze(1)  # Extract lengths as a column vector\n",
    "                outputs = model(segments_tensor[:, :-1], lengths)  # Forward pass (excluding length from attributes)\n",
    "                route_score = torch.sum(outputs)  # Sum segment scores for the route\n",
    "                score_routes.append(route_score)\n",
    "\n",
    "            # Stack route scores into a tensor\n",
    "            score_routes_tensor = torch.stack(score_routes)  # Shape: (num_routes,)\n",
    "\n",
    "            # Find the model-chosen best route (argmax)\n",
    "            model_best_route_index = torch.argmin(score_routes_tensor).item()\n",
    "\n",
    "            # Scores for user-chosen and model-chosen routes\n",
    "            user_prefered_route_score = score_routes_tensor[user_preferred_index]  # User-chosen route score\n",
    "            model_best_route_score = score_routes_tensor[model_best_route_index]  # Model-chosen route score\n",
    "\n",
    "\n",
    "            # Calculate loss: Minimize the difference\n",
    "            \n",
    "            loss = user_prefered_route_score - model_best_route_score + margin\n",
    "            batch_loss += loss\n",
    "\n",
    "        # Backpropagation for the batch\n",
    "        optimizer.zero_grad()\n",
    "        batch_loss.backward()\n",
    "        optimizer.step()\n",
    "\n",
    "    # Logging progress\n",
    "    print(f\"Epoch [{epoch + 1}/{num_epochs}], Loss: {batch_loss.item():.4f}\")"
   ]
  },
  {
   "cell_type": "code",
   "execution_count": 169,
   "metadata": {},
   "outputs": [
    {
     "name": "stdout",
     "output_type": "stream",
     "text": [
      "\n",
      "Starting testing...\n"
     ]
    },
    {
     "name": "stderr",
     "output_type": "stream",
     "text": [
      "100%|██████████| 124/124 [00:00<00:00, 5428.78it/s]"
     ]
    },
    {
     "name": "stdout",
     "output_type": "stream",
     "text": [
      "Test Accuracy: 87.90%\n"
     ]
    },
    {
     "name": "stderr",
     "output_type": "stream",
     "text": [
      "\n"
     ]
    }
   ],
   "source": [
    "# Testing loop to calculate accuracy\n",
    "print(\"\\nStarting testing...\")\n",
    "correct_predictions = 0  # Count of correct predictions\n",
    "total_samples = len(test_data)  # Total number of test samples\n",
    "\n",
    "with torch.no_grad():  # No gradient updates during testing\n",
    "    for options_attributes, user_preferred_index in tqdm(test_data):\n",
    "        score_routes = []  # List to store total scores for each route\n",
    "\n",
    "        # Process each route in the options\n",
    "        for segments in options_attributes:\n",
    "            segments_tensor = torch.tensor(segments, dtype=torch.float32)  # Shape: (num_segments, input_size)\n",
    "            lengths = segments_tensor[:, -1].unsqueeze(1)  # Extract lengths as a column vector\n",
    "            outputs = model(segments_tensor[:, :-1], lengths)  # Forward pass\n",
    "            route_score = torch.sum(outputs)  # Sum segment scores for the route\n",
    "            score_routes.append(route_score)\n",
    "\n",
    "        # Stack route scores into a tensor\n",
    "        score_routes_tensor = torch.stack(score_routes)  # Shape: (num_routes,)\n",
    "\n",
    "        # Find the model-chosen best route (argmin)\n",
    "        model_best_route_index = torch.argmin(score_routes_tensor).item()\n",
    "\n",
    "        # Check if the model's choice matches the user's preferred route\n",
    "        if model_best_route_index == user_preferred_index:\n",
    "            correct_predictions += 1\n",
    "\n",
    "# Calculate accuracy\n",
    "accuracy = (correct_predictions / total_samples) * 100\n",
    "print(f\"Test Accuracy: {accuracy:.2f}%\")"
   ]
  },
  {
   "cell_type": "code",
   "execution_count": 170,
   "metadata": {},
   "outputs": [
    {
     "name": "stderr",
     "output_type": "stream",
     "text": [
      "Epoch 1: 100%|██████████| 2/2 [00:00<00:00, 187.48it/s]\n",
      "Epoch 2: 100%|██████████| 2/2 [00:00<00:00, 187.53it/s]\n",
      "Epoch 3: 100%|██████████| 2/2 [00:00<00:00, 198.30it/s]\n",
      "Epoch 4: 100%|██████████| 2/2 [00:00<00:00, 201.51it/s]\n",
      "Epoch 5: 100%|██████████| 2/2 [00:00<00:00, 203.23it/s]\n",
      "Epoch 6: 100%|██████████| 2/2 [00:00<00:00, 194.48it/s]\n",
      "Epoch 7: 100%|██████████| 2/2 [00:00<00:00, 206.00it/s]\n",
      "Epoch 8: 100%|██████████| 2/2 [00:00<00:00, 185.77it/s]\n",
      "Epoch 9: 100%|██████████| 2/2 [00:00<00:00, 202.04it/s]\n",
      "Epoch 10: 100%|██████████| 2/2 [00:00<00:00, 201.71it/s]\n",
      "Epoch 11: 100%|██████████| 2/2 [00:00<00:00, 196.37it/s]\n",
      "Epoch 12: 100%|██████████| 2/2 [00:00<00:00, 194.92it/s]\n",
      "Epoch 13: 100%|██████████| 2/2 [00:00<00:00, 210.02it/s]\n",
      "Epoch 14: 100%|██████████| 2/2 [00:00<00:00, 199.76it/s]\n",
      "Epoch 15: 100%|██████████| 2/2 [00:00<00:00, 197.48it/s]\n",
      "Epoch 16: 100%|██████████| 2/2 [00:00<00:00, 204.38it/s]\n",
      "Epoch 17: 100%|██████████| 2/2 [00:00<00:00, 195.73it/s]\n",
      "Epoch 18: 100%|██████████| 2/2 [00:00<00:00, 197.64it/s]\n",
      "Epoch 19: 100%|██████████| 2/2 [00:00<00:00, 198.25it/s]\n",
      "Epoch 20: 100%|██████████| 2/2 [00:00<00:00, 200.48it/s]\n",
      "Epoch 21: 100%|██████████| 2/2 [00:00<00:00, 191.37it/s]\n",
      "Epoch 22: 100%|██████████| 2/2 [00:00<00:00, 208.77it/s]\n",
      "Epoch 23: 100%|██████████| 2/2 [00:00<00:00, 74.23it/s]\n",
      "Epoch 24: 100%|██████████| 2/2 [00:00<00:00, 204.08it/s]\n",
      "Epoch 25: 100%|██████████| 2/2 [00:00<00:00, 199.40it/s]\n",
      "Epoch 26: 100%|██████████| 2/2 [00:00<00:00, 193.81it/s]\n",
      "Epoch 27: 100%|██████████| 2/2 [00:00<00:00, 194.06it/s]\n",
      "Epoch 28: 100%|██████████| 2/2 [00:00<00:00, 194.92it/s]\n",
      "Epoch 29: 100%|██████████| 2/2 [00:00<00:00, 194.74it/s]\n",
      "Epoch 30: 100%|██████████| 2/2 [00:00<00:00, 198.00it/s]\n",
      "Epoch 31: 100%|██████████| 2/2 [00:00<00:00, 194.11it/s]\n",
      "Epoch 32: 100%|██████████| 2/2 [00:00<00:00, 205.66it/s]\n",
      "Epoch 33: 100%|██████████| 2/2 [00:00<00:00, 187.43it/s]\n",
      "Epoch 34: 100%|██████████| 2/2 [00:00<00:00, 194.54it/s]\n",
      "Epoch 35: 100%|██████████| 2/2 [00:00<00:00, 202.72it/s]\n",
      "Epoch 36: 100%|██████████| 2/2 [00:00<00:00, 189.10it/s]\n",
      "Epoch 37: 100%|██████████| 2/2 [00:00<00:00, 202.81it/s]\n",
      "Epoch 38: 100%|██████████| 2/2 [00:00<00:00, 203.36it/s]\n",
      "Epoch 39: 100%|██████████| 2/2 [00:00<00:00, 192.68it/s]\n",
      "Epoch 40: 100%|██████████| 2/2 [00:00<00:00, 200.72it/s]\n",
      "Epoch 41: 100%|██████████| 2/2 [00:00<00:00, 206.08it/s]\n",
      "Epoch 42: 100%|██████████| 2/2 [00:00<00:00, 193.75it/s]\n",
      "Epoch 43: 100%|██████████| 2/2 [00:00<00:00, 195.16it/s]\n",
      "Epoch 44: 100%|██████████| 2/2 [00:00<00:00, 193.84it/s]\n",
      "Epoch 45: 100%|██████████| 2/2 [00:00<00:00, 191.55it/s]\n",
      "Epoch 46: 100%|██████████| 2/2 [00:00<00:00, 187.04it/s]\n",
      "Epoch 47: 100%|██████████| 2/2 [00:00<00:00, 204.92it/s]\n",
      "Epoch 48: 100%|██████████| 2/2 [00:00<00:00, 194.60it/s]\n",
      "Epoch 49: 100%|██████████| 2/2 [00:00<00:00, 197.94it/s]\n",
      "Epoch 50: 100%|██████████| 2/2 [00:00<00:00, 202.90it/s]\n",
      "Epoch 51: 100%|██████████| 2/2 [00:00<00:00, 193.20it/s]\n",
      "Epoch 52: 100%|██████████| 2/2 [00:00<00:00, 46.85it/s]\n",
      "Epoch 53: 100%|██████████| 2/2 [00:00<00:00, 193.48it/s]\n",
      "Epoch 54: 100%|██████████| 2/2 [00:00<00:00, 185.42it/s]\n",
      "Epoch 55: 100%|██████████| 2/2 [00:00<00:00, 189.39it/s]\n",
      "Epoch 56: 100%|██████████| 2/2 [00:00<00:00, 198.29it/s]\n",
      "Epoch 57: 100%|██████████| 2/2 [00:00<00:00, 192.28it/s]\n",
      "Epoch 58: 100%|██████████| 2/2 [00:00<00:00, 190.30it/s]\n",
      "Epoch 59: 100%|██████████| 2/2 [00:00<00:00, 191.96it/s]\n",
      "Epoch 60: 100%|██████████| 2/2 [00:00<00:00, 209.86it/s]\n",
      "Epoch 61: 100%|██████████| 2/2 [00:00<00:00, 201.41it/s]\n",
      "Epoch 62: 100%|██████████| 2/2 [00:00<00:00, 204.04it/s]\n",
      "Epoch 63: 100%|██████████| 2/2 [00:00<00:00, 200.21it/s]\n",
      "Epoch 64: 100%|██████████| 2/2 [00:00<00:00, 203.10it/s]\n",
      "Epoch 65: 100%|██████████| 2/2 [00:00<00:00, 190.57it/s]\n",
      "Epoch 66: 100%|██████████| 2/2 [00:00<00:00, 195.90it/s]\n",
      "Epoch 67: 100%|██████████| 2/2 [00:00<00:00, 205.93it/s]\n",
      "Epoch 68: 100%|██████████| 2/2 [00:00<00:00, 196.85it/s]\n",
      "Epoch 69: 100%|██████████| 2/2 [00:00<00:00, 200.12it/s]\n",
      "Epoch 70: 100%|██████████| 2/2 [00:00<00:00, 189.95it/s]\n",
      "Epoch 71: 100%|██████████| 2/2 [00:00<00:00, 193.55it/s]\n",
      "Epoch 72: 100%|██████████| 2/2 [00:00<00:00, 196.99it/s]\n",
      "Epoch 73: 100%|██████████| 2/2 [00:00<00:00, 199.90it/s]\n",
      "Epoch 74: 100%|██████████| 2/2 [00:00<00:00, 201.55it/s]\n",
      "Epoch 75: 100%|██████████| 2/2 [00:00<00:00, 194.82it/s]\n",
      "Epoch 76: 100%|██████████| 2/2 [00:00<00:00, 191.92it/s]\n",
      "Epoch 77: 100%|██████████| 2/2 [00:00<00:00, 188.32it/s]\n",
      "Epoch 78: 100%|██████████| 2/2 [00:00<00:00, 198.04it/s]\n",
      "Epoch 79: 100%|██████████| 2/2 [00:00<00:00, 204.56it/s]\n",
      "Epoch 80: 100%|██████████| 2/2 [00:00<00:00, 48.87it/s]\n",
      "Epoch 81: 100%|██████████| 2/2 [00:00<00:00, 202.51it/s]\n",
      "Epoch 82: 100%|██████████| 2/2 [00:00<00:00, 204.96it/s]\n",
      "Epoch 83: 100%|██████████| 2/2 [00:00<00:00, 199.92it/s]\n",
      "Epoch 84: 100%|██████████| 2/2 [00:00<00:00, 203.21it/s]\n",
      "Epoch 85: 100%|██████████| 2/2 [00:00<00:00, 198.57it/s]\n",
      "Epoch 86: 100%|██████████| 2/2 [00:00<00:00, 200.44it/s]\n",
      "Epoch 87: 100%|██████████| 2/2 [00:00<00:00, 202.23it/s]\n",
      "Epoch 88: 100%|██████████| 2/2 [00:00<00:00, 198.73it/s]\n",
      "Epoch 89: 100%|██████████| 2/2 [00:00<00:00, 195.60it/s]\n",
      "Epoch 90: 100%|██████████| 2/2 [00:00<00:00, 203.58it/s]\n",
      "Epoch 91: 100%|██████████| 2/2 [00:00<00:00, 201.52it/s]\n",
      "Epoch 92: 100%|██████████| 2/2 [00:00<00:00, 193.89it/s]\n",
      "Epoch 93: 100%|██████████| 2/2 [00:00<00:00, 202.33it/s]\n",
      "Epoch 94: 100%|██████████| 2/2 [00:00<00:00, 193.27it/s]\n",
      "Epoch 95: 100%|██████████| 2/2 [00:00<00:00, 199.17it/s]\n",
      "Epoch 96: 100%|██████████| 2/2 [00:00<00:00, 207.98it/s]\n",
      "Epoch 97: 100%|██████████| 2/2 [00:00<00:00, 198.28it/s]\n",
      "Epoch 98: 100%|██████████| 2/2 [00:00<00:00, 195.90it/s]\n",
      "Epoch 99: 100%|██████████| 2/2 [00:00<00:00, 210.66it/s]\n",
      "Epoch 100: 100%|██████████| 2/2 [00:00<00:00, 211.30it/s]\n",
      "Testing: 100%|██████████| 475/475 [00:00<00:00, 6752.05it/s]\n"
     ]
    },
    {
     "name": "stdout",
     "output_type": "stream",
     "text": [
      "Testing Data Count: 24 samples, Accuracy: 80.84%\n"
     ]
    },
    {
     "name": "stderr",
     "output_type": "stream",
     "text": [
      "Epoch 1: 100%|██████████| 14/14 [00:00<00:00, 174.47it/s]\n",
      "Epoch 2: 100%|██████████| 14/14 [00:00<00:00, 171.88it/s]\n",
      "Epoch 3: 100%|██████████| 14/14 [00:00<00:00, 174.86it/s]\n",
      "Epoch 4: 100%|██████████| 14/14 [00:00<00:00, 175.89it/s]\n",
      "Epoch 5: 100%|██████████| 14/14 [00:00<00:00, 174.36it/s]\n",
      "Epoch 6: 100%|██████████| 14/14 [00:00<00:00, 173.36it/s]\n",
      "Epoch 7: 100%|██████████| 14/14 [00:00<00:00, 176.65it/s]\n",
      "Epoch 8: 100%|██████████| 14/14 [00:00<00:00, 122.85it/s]\n",
      "Epoch 9: 100%|██████████| 14/14 [00:00<00:00, 173.74it/s]\n",
      "Epoch 10: 100%|██████████| 14/14 [00:00<00:00, 172.52it/s]\n",
      "Epoch 11: 100%|██████████| 14/14 [00:00<00:00, 174.62it/s]\n",
      "Epoch 12: 100%|██████████| 14/14 [00:00<00:00, 172.84it/s]\n",
      "Epoch 13: 100%|██████████| 14/14 [00:00<00:00, 174.19it/s]\n",
      "Epoch 14: 100%|██████████| 14/14 [00:00<00:00, 173.07it/s]\n",
      "Epoch 15: 100%|██████████| 14/14 [00:00<00:00, 174.72it/s]\n",
      "Epoch 16: 100%|██████████| 14/14 [00:00<00:00, 172.52it/s]\n",
      "Epoch 17: 100%|██████████| 14/14 [00:00<00:00, 172.56it/s]\n",
      "Epoch 18: 100%|██████████| 14/14 [00:00<00:00, 176.88it/s]\n",
      "Epoch 19: 100%|██████████| 14/14 [00:00<00:00, 175.07it/s]\n",
      "Epoch 20: 100%|██████████| 14/14 [00:00<00:00, 172.98it/s]\n",
      "Epoch 21: 100%|██████████| 14/14 [00:00<00:00, 174.84it/s]\n",
      "Epoch 22: 100%|██████████| 14/14 [00:00<00:00, 170.87it/s]\n",
      "Epoch 23: 100%|██████████| 14/14 [00:00<00:00, 177.04it/s]\n",
      "Epoch 24: 100%|██████████| 14/14 [00:00<00:00, 174.29it/s]\n",
      "Epoch 25: 100%|██████████| 14/14 [00:00<00:00, 173.96it/s]\n",
      "Epoch 26: 100%|██████████| 14/14 [00:00<00:00, 172.09it/s]\n",
      "Epoch 27: 100%|██████████| 14/14 [00:00<00:00, 173.33it/s]\n",
      "Epoch 28: 100%|██████████| 14/14 [00:00<00:00, 174.06it/s]\n",
      "Epoch 29: 100%|██████████| 14/14 [00:00<00:00, 175.09it/s]\n",
      "Epoch 30: 100%|██████████| 14/14 [00:00<00:00, 174.97it/s]\n",
      "Epoch 31: 100%|██████████| 14/14 [00:00<00:00, 172.94it/s]\n",
      "Epoch 32: 100%|██████████| 14/14 [00:00<00:00, 174.56it/s]\n",
      "Epoch 33: 100%|██████████| 14/14 [00:00<00:00, 174.91it/s]\n",
      "Epoch 34: 100%|██████████| 14/14 [00:00<00:00, 173.72it/s]\n",
      "Epoch 35: 100%|██████████| 14/14 [00:00<00:00, 175.30it/s]\n",
      "Epoch 36: 100%|██████████| 14/14 [00:00<00:00, 172.95it/s]\n",
      "Epoch 37: 100%|██████████| 14/14 [00:00<00:00, 175.23it/s]\n",
      "Epoch 38: 100%|██████████| 14/14 [00:00<00:00, 173.05it/s]\n",
      "Epoch 39: 100%|██████████| 14/14 [00:00<00:00, 175.41it/s]\n",
      "Epoch 40: 100%|██████████| 14/14 [00:00<00:00, 174.78it/s]\n",
      "Epoch 41: 100%|██████████| 14/14 [00:00<00:00, 174.87it/s]\n",
      "Epoch 42: 100%|██████████| 14/14 [00:00<00:00, 124.04it/s]\n",
      "Epoch 43: 100%|██████████| 14/14 [00:00<00:00, 176.26it/s]\n",
      "Epoch 44: 100%|██████████| 14/14 [00:00<00:00, 172.38it/s]\n",
      "Epoch 45: 100%|██████████| 14/14 [00:00<00:00, 176.69it/s]\n",
      "Epoch 46: 100%|██████████| 14/14 [00:00<00:00, 177.15it/s]\n",
      "Epoch 47: 100%|██████████| 14/14 [00:00<00:00, 174.87it/s]\n",
      "Epoch 48: 100%|██████████| 14/14 [00:00<00:00, 170.63it/s]\n",
      "Epoch 49: 100%|██████████| 14/14 [00:00<00:00, 174.20it/s]\n",
      "Epoch 50: 100%|██████████| 14/14 [00:00<00:00, 170.84it/s]\n",
      "Epoch 51: 100%|██████████| 14/14 [00:00<00:00, 171.71it/s]\n",
      "Epoch 52: 100%|██████████| 14/14 [00:00<00:00, 173.34it/s]\n",
      "Epoch 53: 100%|██████████| 14/14 [00:00<00:00, 173.98it/s]\n",
      "Epoch 54: 100%|██████████| 14/14 [00:00<00:00, 172.42it/s]\n",
      "Epoch 55: 100%|██████████| 14/14 [00:00<00:00, 174.16it/s]\n",
      "Epoch 56: 100%|██████████| 14/14 [00:00<00:00, 172.65it/s]\n",
      "Epoch 57: 100%|██████████| 14/14 [00:00<00:00, 175.19it/s]\n",
      "Epoch 58: 100%|██████████| 14/14 [00:00<00:00, 175.48it/s]\n",
      "Epoch 59: 100%|██████████| 14/14 [00:00<00:00, 173.55it/s]\n",
      "Epoch 60: 100%|██████████| 14/14 [00:00<00:00, 173.63it/s]\n",
      "Epoch 61: 100%|██████████| 14/14 [00:00<00:00, 175.34it/s]\n",
      "Epoch 62: 100%|██████████| 14/14 [00:00<00:00, 170.76it/s]\n",
      "Epoch 63: 100%|██████████| 14/14 [00:00<00:00, 170.99it/s]\n",
      "Epoch 64: 100%|██████████| 14/14 [00:00<00:00, 173.66it/s]\n",
      "Epoch 65: 100%|██████████| 14/14 [00:00<00:00, 172.92it/s]\n",
      "Epoch 66: 100%|██████████| 14/14 [00:00<00:00, 173.46it/s]\n",
      "Epoch 67: 100%|██████████| 14/14 [00:00<00:00, 175.30it/s]\n",
      "Epoch 68: 100%|██████████| 14/14 [00:00<00:00, 173.37it/s]\n",
      "Epoch 69: 100%|██████████| 14/14 [00:00<00:00, 170.97it/s]\n",
      "Epoch 70: 100%|██████████| 14/14 [00:00<00:00, 122.02it/s]\n",
      "Epoch 71: 100%|██████████| 14/14 [00:00<00:00, 171.52it/s]\n",
      "Epoch 72: 100%|██████████| 14/14 [00:00<00:00, 159.61it/s]\n",
      "Epoch 73: 100%|██████████| 14/14 [00:00<00:00, 116.86it/s]\n",
      "Epoch 74: 100%|██████████| 14/14 [00:00<00:00, 115.14it/s]\n",
      "Epoch 75: 100%|██████████| 14/14 [00:00<00:00, 173.25it/s]\n",
      "Epoch 76: 100%|██████████| 14/14 [00:00<00:00, 175.19it/s]\n",
      "Epoch 77: 100%|██████████| 14/14 [00:00<00:00, 173.42it/s]\n",
      "Epoch 78: 100%|██████████| 14/14 [00:00<00:00, 173.16it/s]\n",
      "Epoch 79: 100%|██████████| 14/14 [00:00<00:00, 176.86it/s]\n",
      "Epoch 80: 100%|██████████| 14/14 [00:00<00:00, 174.09it/s]\n",
      "Epoch 81: 100%|██████████| 14/14 [00:00<00:00, 175.40it/s]\n",
      "Epoch 82: 100%|██████████| 14/14 [00:00<00:00, 174.60it/s]\n",
      "Epoch 83: 100%|██████████| 14/14 [00:00<00:00, 174.95it/s]\n",
      "Epoch 84: 100%|██████████| 14/14 [00:00<00:00, 175.84it/s]\n",
      "Epoch 85: 100%|██████████| 14/14 [00:00<00:00, 173.80it/s]\n",
      "Epoch 86: 100%|██████████| 14/14 [00:00<00:00, 173.94it/s]\n",
      "Epoch 87: 100%|██████████| 14/14 [00:00<00:00, 173.66it/s]\n",
      "Epoch 88: 100%|██████████| 14/14 [00:00<00:00, 174.77it/s]\n",
      "Epoch 89: 100%|██████████| 14/14 [00:00<00:00, 177.33it/s]\n",
      "Epoch 90: 100%|██████████| 14/14 [00:00<00:00, 175.25it/s]\n",
      "Epoch 91: 100%|██████████| 14/14 [00:00<00:00, 175.08it/s]\n",
      "Epoch 92: 100%|██████████| 14/14 [00:00<00:00, 177.86it/s]\n",
      "Epoch 93: 100%|██████████| 14/14 [00:00<00:00, 175.78it/s]\n",
      "Epoch 94: 100%|██████████| 14/14 [00:00<00:00, 173.24it/s]\n",
      "Epoch 95: 100%|██████████| 14/14 [00:00<00:00, 173.61it/s]\n",
      "Epoch 96: 100%|██████████| 14/14 [00:00<00:00, 174.05it/s]\n",
      "Epoch 97: 100%|██████████| 14/14 [00:00<00:00, 173.98it/s]\n",
      "Epoch 98: 100%|██████████| 14/14 [00:00<00:00, 66.92it/s]\n",
      "Epoch 99: 100%|██████████| 14/14 [00:00<00:00, 70.95it/s]\n",
      "Epoch 100: 100%|██████████| 14/14 [00:00<00:00, 140.56it/s]\n",
      "Testing: 100%|██████████| 275/275 [00:00<00:00, 6082.32it/s]\n"
     ]
    },
    {
     "name": "stdout",
     "output_type": "stream",
     "text": [
      "Testing Data Count: 224 samples, Accuracy: 80.00%\n"
     ]
    },
    {
     "name": "stderr",
     "output_type": "stream",
     "text": [
      "Epoch 1: 100%|██████████| 27/27 [00:00<00:00, 85.96it/s]\n",
      "Epoch 2: 100%|██████████| 27/27 [00:00<00:00, 144.28it/s]\n",
      "Epoch 3: 100%|██████████| 27/27 [00:00<00:00, 138.36it/s]\n",
      "Epoch 4: 100%|██████████| 27/27 [00:00<00:00, 129.47it/s]\n",
      "Epoch 5: 100%|██████████| 27/27 [00:00<00:00, 163.14it/s]\n",
      "Epoch 6: 100%|██████████| 27/27 [00:00<00:00, 159.79it/s]\n",
      "Epoch 7: 100%|██████████| 27/27 [00:00<00:00, 158.31it/s]\n",
      "Epoch 8: 100%|██████████| 27/27 [00:00<00:00, 171.27it/s]\n",
      "Epoch 9: 100%|██████████| 27/27 [00:00<00:00, 165.13it/s]\n",
      "Epoch 10: 100%|██████████| 27/27 [00:00<00:00, 180.31it/s]\n",
      "Epoch 11: 100%|██████████| 27/27 [00:00<00:00, 181.37it/s]\n",
      "Epoch 12: 100%|██████████| 27/27 [00:00<00:00, 180.79it/s]\n",
      "Epoch 13: 100%|██████████| 27/27 [00:00<00:00, 181.23it/s]\n",
      "Epoch 14: 100%|██████████| 27/27 [00:00<00:00, 179.82it/s]\n",
      "Epoch 15: 100%|██████████| 27/27 [00:00<00:00, 181.37it/s]\n",
      "Epoch 16: 100%|██████████| 27/27 [00:00<00:00, 181.85it/s]\n",
      "Epoch 17: 100%|██████████| 27/27 [00:00<00:00, 180.77it/s]\n",
      "Epoch 18: 100%|██████████| 27/27 [00:00<00:00, 180.12it/s]\n",
      "Epoch 19: 100%|██████████| 27/27 [00:00<00:00, 180.73it/s]\n",
      "Epoch 20: 100%|██████████| 27/27 [00:00<00:00, 178.96it/s]\n",
      "Epoch 21: 100%|██████████| 27/27 [00:00<00:00, 180.77it/s]\n",
      "Epoch 22: 100%|██████████| 27/27 [00:00<00:00, 179.29it/s]\n",
      "Epoch 23: 100%|██████████| 27/27 [00:00<00:00, 179.95it/s]\n",
      "Epoch 24: 100%|██████████| 27/27 [00:00<00:00, 180.69it/s]\n",
      "Epoch 25: 100%|██████████| 27/27 [00:00<00:00, 180.12it/s]\n",
      "Epoch 26: 100%|██████████| 27/27 [00:00<00:00, 180.94it/s]\n",
      "Epoch 27: 100%|██████████| 27/27 [00:00<00:00, 181.32it/s]\n",
      "Epoch 28: 100%|██████████| 27/27 [00:00<00:00, 147.22it/s]\n",
      "Epoch 29: 100%|██████████| 27/27 [00:00<00:00, 182.13it/s]\n",
      "Epoch 30: 100%|██████████| 27/27 [00:00<00:00, 181.98it/s]\n",
      "Epoch 31: 100%|██████████| 27/27 [00:00<00:00, 181.58it/s]\n",
      "Epoch 32: 100%|██████████| 27/27 [00:00<00:00, 181.10it/s]\n",
      "Epoch 33: 100%|██████████| 27/27 [00:00<00:00, 179.43it/s]\n",
      "Epoch 34: 100%|██████████| 27/27 [00:00<00:00, 181.38it/s]\n",
      "Epoch 35: 100%|██████████| 27/27 [00:00<00:00, 179.95it/s]\n",
      "Epoch 36: 100%|██████████| 27/27 [00:00<00:00, 182.08it/s]\n",
      "Epoch 37: 100%|██████████| 27/27 [00:00<00:00, 177.31it/s]\n",
      "Epoch 38: 100%|██████████| 27/27 [00:00<00:00, 180.10it/s]\n",
      "Epoch 39: 100%|██████████| 27/27 [00:00<00:00, 179.10it/s]\n",
      "Epoch 40: 100%|██████████| 27/27 [00:00<00:00, 183.17it/s]\n",
      "Epoch 41: 100%|██████████| 27/27 [00:00<00:00, 181.52it/s]\n",
      "Epoch 42: 100%|██████████| 27/27 [00:00<00:00, 182.52it/s]\n",
      "Epoch 43: 100%|██████████| 27/27 [00:00<00:00, 183.41it/s]\n",
      "Epoch 44: 100%|██████████| 27/27 [00:00<00:00, 180.57it/s]\n",
      "Epoch 45: 100%|██████████| 27/27 [00:00<00:00, 178.52it/s]\n",
      "Epoch 46: 100%|██████████| 27/27 [00:00<00:00, 179.28it/s]\n",
      "Epoch 47: 100%|██████████| 27/27 [00:00<00:00, 179.53it/s]\n",
      "Epoch 48: 100%|██████████| 27/27 [00:00<00:00, 180.33it/s]\n",
      "Epoch 49: 100%|██████████| 27/27 [00:00<00:00, 148.20it/s]\n",
      "Epoch 50: 100%|██████████| 27/27 [00:00<00:00, 179.18it/s]\n",
      "Epoch 51: 100%|██████████| 27/27 [00:00<00:00, 178.79it/s]\n",
      "Epoch 52: 100%|██████████| 27/27 [00:00<00:00, 178.99it/s]\n",
      "Epoch 53: 100%|██████████| 27/27 [00:00<00:00, 181.54it/s]\n",
      "Epoch 54: 100%|██████████| 27/27 [00:00<00:00, 179.33it/s]\n",
      "Epoch 55: 100%|██████████| 27/27 [00:00<00:00, 181.63it/s]\n",
      "Epoch 56: 100%|██████████| 27/27 [00:00<00:00, 179.26it/s]\n",
      "Epoch 57: 100%|██████████| 27/27 [00:00<00:00, 181.20it/s]\n",
      "Epoch 58: 100%|██████████| 27/27 [00:00<00:00, 179.48it/s]\n",
      "Epoch 59: 100%|██████████| 27/27 [00:00<00:00, 181.02it/s]\n",
      "Epoch 60: 100%|██████████| 27/27 [00:00<00:00, 180.36it/s]\n",
      "Epoch 61: 100%|██████████| 27/27 [00:00<00:00, 179.82it/s]\n",
      "Epoch 62: 100%|██████████| 27/27 [00:00<00:00, 178.42it/s]\n",
      "Epoch 63: 100%|██████████| 27/27 [00:00<00:00, 180.79it/s]\n",
      "Epoch 64: 100%|██████████| 27/27 [00:00<00:00, 180.28it/s]\n",
      "Epoch 65: 100%|██████████| 27/27 [00:00<00:00, 179.97it/s]\n",
      "Epoch 66: 100%|██████████| 27/27 [00:00<00:00, 178.87it/s]\n",
      "Epoch 67: 100%|██████████| 27/27 [00:00<00:00, 180.73it/s]\n",
      "Epoch 68: 100%|██████████| 27/27 [00:00<00:00, 148.77it/s]\n",
      "Epoch 69: 100%|██████████| 27/27 [00:00<00:00, 181.90it/s]\n",
      "Epoch 70: 100%|██████████| 27/27 [00:00<00:00, 181.59it/s]\n",
      "Epoch 71: 100%|██████████| 27/27 [00:00<00:00, 180.91it/s]\n",
      "Epoch 72: 100%|██████████| 27/27 [00:00<00:00, 183.10it/s]\n",
      "Epoch 73: 100%|██████████| 27/27 [00:00<00:00, 180.88it/s]\n",
      "Epoch 74: 100%|██████████| 27/27 [00:00<00:00, 180.98it/s]\n",
      "Epoch 75: 100%|██████████| 27/27 [00:00<00:00, 180.55it/s]\n",
      "Epoch 76: 100%|██████████| 27/27 [00:00<00:00, 179.85it/s]\n",
      "Epoch 77: 100%|██████████| 27/27 [00:00<00:00, 180.74it/s]\n",
      "Epoch 78: 100%|██████████| 27/27 [00:00<00:00, 180.15it/s]\n",
      "Epoch 79: 100%|██████████| 27/27 [00:00<00:00, 180.97it/s]\n",
      "Epoch 80: 100%|██████████| 27/27 [00:00<00:00, 182.92it/s]\n",
      "Epoch 81: 100%|██████████| 27/27 [00:00<00:00, 181.95it/s]\n",
      "Epoch 82: 100%|██████████| 27/27 [00:00<00:00, 178.66it/s]\n",
      "Epoch 83: 100%|██████████| 27/27 [00:00<00:00, 179.78it/s]\n",
      "Epoch 84: 100%|██████████| 27/27 [00:00<00:00, 179.08it/s]\n",
      "Epoch 85: 100%|██████████| 27/27 [00:00<00:00, 180.63it/s]\n",
      "Epoch 86: 100%|██████████| 27/27 [00:00<00:00, 180.67it/s]\n",
      "Epoch 87: 100%|██████████| 27/27 [00:00<00:00, 181.53it/s]\n",
      "Epoch 88: 100%|██████████| 27/27 [00:00<00:00, 181.54it/s]\n",
      "Epoch 89: 100%|██████████| 27/27 [00:00<00:00, 148.45it/s]\n",
      "Epoch 90: 100%|██████████| 27/27 [00:00<00:00, 181.57it/s]\n",
      "Epoch 91: 100%|██████████| 27/27 [00:00<00:00, 181.05it/s]\n",
      "Epoch 92: 100%|██████████| 27/27 [00:00<00:00, 177.51it/s]\n",
      "Epoch 93: 100%|██████████| 27/27 [00:00<00:00, 178.66it/s]\n",
      "Epoch 94: 100%|██████████| 27/27 [00:00<00:00, 181.90it/s]\n",
      "Epoch 95: 100%|██████████| 27/27 [00:00<00:00, 180.61it/s]\n",
      "Epoch 96: 100%|██████████| 27/27 [00:00<00:00, 181.15it/s]\n",
      "Epoch 97: 100%|██████████| 27/27 [00:00<00:00, 181.31it/s]\n",
      "Epoch 98: 100%|██████████| 27/27 [00:00<00:00, 179.38it/s]\n",
      "Epoch 99: 100%|██████████| 27/27 [00:00<00:00, 181.63it/s]\n",
      "Epoch 100: 100%|██████████| 27/27 [00:00<00:00, 182.25it/s]\n",
      "Testing: 100%|██████████| 75/75 [00:00<00:00, 5990.49it/s]\n"
     ]
    },
    {
     "name": "stdout",
     "output_type": "stream",
     "text": [
      "Testing Data Count: 424 samples, Accuracy: 82.67%\n"
     ]
    },
    {
     "data": {
      "image/png": "[encoded data removed]",
      "text/plain": [
       "<Figure size 1000x600 with 1 Axes>"
      ]
     },
     "metadata": {},
     "output_type": "display_data"
    }
   ],
   "source": [
    "import matplotlib.pyplot as plt\n",
    "\n",
    "def train_and_test_model(data, input_size, model_class, train_percentage, batch_size=16, num_epochs=100, lr=0.01, margin=1.0):\n",
    "    \"\"\"\n",
    "    Trains and evaluates a segment scoring model based on provided data.\n",
    "    \n",
    "    Args:\n",
    "        data: The dataset to be split and used for training and testing.\n",
    "        input_size: The size of the input features for the model.\n",
    "        model_class: The class defining the neural network model.\n",
    "        percentage: Percentage of the original data to use for testing.\n",
    "        batch_size: Size of each training batch.\n",
    "        num_epochs: Number of training epochs.\n",
    "        lr: Learning rate for the optimizer.\n",
    "        margin: Margin used in the loss function.\n",
    "    \n",
    "    Returns:\n",
    "        A tuple containing test accuracy and number of test samples.\n",
    "    \"\"\"\n",
    "    # Split the data\n",
    "    \n",
    "    train_size = int(len(data) * (train_percentage / 100))\n",
    "    train_data = data[:train_size]\n",
    "    test_data = data[train_size:]\n",
    "\n",
    "\n",
    "    # Initialize model, optimizer\n",
    "    model = model_class(input_size, 8)\n",
    "    optimizer = optim.Adam(model.parameters(), lr=lr)\n",
    "    \n",
    "    # Training loop\n",
    "    for epoch in range(num_epochs):\n",
    "        random.shuffle(train_data)  # Shuffle the training data\n",
    "        for batch_start in tqdm(range(0, len(train_data), batch_size), desc=f\"Epoch {epoch+1}\"):\n",
    "            batch_data = train_data[batch_start:batch_start + batch_size]  # Get batch\n",
    "            batch_loss = 0.0\n",
    "\n",
    "            for options_attributes, user_preferred_index in batch_data:\n",
    "                score_routes = []\n",
    "                for segments in options_attributes:\n",
    "                    segments_tensor = torch.tensor(segments, dtype=torch.float32)\n",
    "                    lengths = segments_tensor[:, -1].unsqueeze(1)\n",
    "                    outputs = model(segments_tensor[:, :-1], lengths)\n",
    "                    route_score = torch.sum(outputs)\n",
    "                    score_routes.append(route_score)\n",
    "                \n",
    "                score_routes_tensor = torch.stack(score_routes)\n",
    "                user_prefered_route_score = score_routes_tensor[user_preferred_index]\n",
    "                model_best_route_score = score_routes_tensor[torch.argmin(score_routes_tensor).item()]\n",
    "                \n",
    "                # Calculate loss\n",
    "                loss = user_prefered_route_score - model_best_route_score + margin\n",
    "                batch_loss += loss\n",
    "\n",
    "            # Backpropagation for the batch\n",
    "            optimizer.zero_grad()\n",
    "            batch_loss.backward()\n",
    "            optimizer.step()\n",
    "    \n",
    "    # Testing loop\n",
    "    correct_predictions = 0\n",
    "    with torch.no_grad():\n",
    "        for options_attributes, user_preferred_index in tqdm(test_data, desc=\"Testing\"):\n",
    "            score_routes = []\n",
    "            for segments in options_attributes:\n",
    "                segments_tensor = torch.tensor(segments, dtype=torch.float32)\n",
    "                lengths = segments_tensor[:, -1].unsqueeze(1)\n",
    "                outputs = model(segments_tensor[:, :-1], lengths)\n",
    "                route_score = torch.sum(outputs)\n",
    "                score_routes.append(route_score)\n",
    "            \n",
    "            score_routes_tensor = torch.stack(score_routes)\n",
    "            model_best_route_index = torch.argmin(score_routes_tensor).item()\n",
    "            if model_best_route_index == user_preferred_index:\n",
    "                correct_predictions += 1\n",
    "    \n",
    "    accuracy = (correct_predictions / len(test_data)) * 100\n",
    "    return accuracy, train_size, model\n",
    "\n",
    "def evaluate_model(data, input_size, model_class, percentages, batch_size=16, num_epochs=100, lr=0.01, margin=1.0):\n",
    "    \"\"\"\n",
    "    Evaluates the model for various test data percentages and plots the results based on actual data size.\n",
    "    \n",
    "    Args:\n",
    "        data: The dataset to be split and used for training and testing.\n",
    "        input_size: The size of the input features for the model.\n",
    "        model_class: The class defining the neural network model.\n",
    "        percentages: A list of percentages of data to use for testing.\n",
    "    \n",
    "    Returns:\n",
    "        None\n",
    "    \"\"\"\n",
    "    results = []\n",
    "    for percentage in percentages:\n",
    "        accuracy, test_size, _ = train_and_test_model(\n",
    "            data, input_size, model_class, percentage, \n",
    "            batch_size=batch_size, num_epochs=num_epochs, lr=lr, margin=margin\n",
    "        )\n",
    "        results.append((test_size, accuracy))\n",
    "        print(f\"Testing Data Count: {test_size} samples, Accuracy: {accuracy:.2f}%\")\n",
    "    \n",
    "    # Plotting the results\n",
    "    train_sizes, accuracies = zip(*results)\n",
    "    plt.figure(figsize=(10, 6))\n",
    "    plt.plot(train_sizes, accuracies, marker='o', linestyle='-', label='Test Accuracy')\n",
    "    plt.title(\"Model Accuracy vs. Testing Data Size\")\n",
    "    plt.xlabel(\"Number of Testing Samples\")\n",
    "    plt.ylabel(\"Accuracy (%)\")\n",
    "    plt.grid()\n",
    "    plt.legend()\n",
    "    plt.show()\n",
    "\n",
    "# Specify percentages\n",
    "percentages = range(5, 96, 40)\n",
    "\n",
    "evaluate_model(standardize_info, input_size, SegmentQualityModel, percentages)\n"
   ]
  },
  {
   "cell_type": "code",
   "execution_count": 171,
   "metadata": {},
   "outputs": [
    {
     "name": "stderr",
     "output_type": "stream",
     "text": [
      "Epoch 1: 100%|██████████| 25/25 [00:00<00:00, 166.16it/s]\n",
      "Epoch 2: 100%|██████████| 25/25 [00:00<00:00, 175.75it/s]\n",
      "Epoch 3: 100%|██████████| 25/25 [00:00<00:00, 175.84it/s]\n",
      "Epoch 4: 100%|██████████| 25/25 [00:00<00:00, 177.03it/s]\n",
      "Epoch 5: 100%|██████████| 25/25 [00:00<00:00, 177.74it/s]\n",
      "Epoch 6: 100%|██████████| 25/25 [00:00<00:00, 144.93it/s]\n",
      "Epoch 7: 100%|██████████| 25/25 [00:00<00:00, 177.57it/s]\n",
      "Epoch 8: 100%|██████████| 25/25 [00:00<00:00, 177.77it/s]\n",
      "Epoch 9: 100%|██████████| 25/25 [00:00<00:00, 177.93it/s]\n",
      "Epoch 10: 100%|██████████| 25/25 [00:00<00:00, 179.83it/s]\n",
      "Epoch 11: 100%|██████████| 25/25 [00:00<00:00, 176.67it/s]\n",
      "Epoch 12: 100%|██████████| 25/25 [00:00<00:00, 178.39it/s]\n",
      "Epoch 13: 100%|██████████| 25/25 [00:00<00:00, 179.06it/s]\n",
      "Epoch 14: 100%|██████████| 25/25 [00:00<00:00, 175.80it/s]\n",
      "Epoch 15: 100%|██████████| 25/25 [00:00<00:00, 175.67it/s]\n",
      "Epoch 16: 100%|██████████| 25/25 [00:00<00:00, 176.12it/s]\n",
      "Epoch 17: 100%|██████████| 25/25 [00:00<00:00, 178.21it/s]\n",
      "Epoch 18: 100%|██████████| 25/25 [00:00<00:00, 176.67it/s]\n",
      "Epoch 19: 100%|██████████| 25/25 [00:00<00:00, 176.93it/s]\n",
      "Epoch 20: 100%|██████████| 25/25 [00:00<00:00, 175.40it/s]\n",
      "Epoch 21: 100%|██████████| 25/25 [00:00<00:00, 178.09it/s]\n",
      "Epoch 22: 100%|██████████| 25/25 [00:00<00:00, 177.76it/s]\n",
      "Epoch 23: 100%|██████████| 25/25 [00:00<00:00, 177.31it/s]\n",
      "Epoch 24: 100%|██████████| 25/25 [00:00<00:00, 176.58it/s]\n",
      "Epoch 25: 100%|██████████| 25/25 [00:00<00:00, 177.12it/s]\n",
      "Epoch 26: 100%|██████████| 25/25 [00:00<00:00, 178.44it/s]\n",
      "Epoch 27: 100%|██████████| 25/25 [00:00<00:00, 177.53it/s]\n",
      "Epoch 28: 100%|██████████| 25/25 [00:00<00:00, 177.11it/s]\n",
      "Epoch 29: 100%|██████████| 25/25 [00:00<00:00, 175.49it/s]\n",
      "Epoch 30: 100%|██████████| 25/25 [00:00<00:00, 176.56it/s]\n",
      "Epoch 31: 100%|██████████| 25/25 [00:00<00:00, 143.73it/s]\n",
      "Epoch 32: 100%|██████████| 25/25 [00:00<00:00, 177.85it/s]\n",
      "Epoch 33: 100%|██████████| 25/25 [00:00<00:00, 176.45it/s]\n",
      "Epoch 34: 100%|██████████| 25/25 [00:00<00:00, 176.85it/s]\n",
      "Epoch 35: 100%|██████████| 25/25 [00:00<00:00, 175.83it/s]\n",
      "Epoch 36: 100%|██████████| 25/25 [00:00<00:00, 178.51it/s]\n",
      "Epoch 37: 100%|██████████| 25/25 [00:00<00:00, 177.02it/s]\n",
      "Epoch 38: 100%|██████████| 25/25 [00:00<00:00, 175.33it/s]\n",
      "Epoch 39: 100%|██████████| 25/25 [00:00<00:00, 178.04it/s]\n",
      "Epoch 40: 100%|██████████| 25/25 [00:00<00:00, 176.12it/s]\n",
      "Epoch 41: 100%|██████████| 25/25 [00:00<00:00, 176.89it/s]\n",
      "Epoch 42: 100%|██████████| 25/25 [00:00<00:00, 177.71it/s]\n",
      "Epoch 43: 100%|██████████| 25/25 [00:00<00:00, 176.68it/s]\n",
      "Epoch 44: 100%|██████████| 25/25 [00:00<00:00, 176.00it/s]\n",
      "Epoch 45: 100%|██████████| 25/25 [00:00<00:00, 178.33it/s]\n",
      "Epoch 46: 100%|██████████| 25/25 [00:00<00:00, 176.90it/s]\n",
      "Epoch 47: 100%|██████████| 25/25 [00:00<00:00, 177.35it/s]\n",
      "Epoch 48: 100%|██████████| 25/25 [00:00<00:00, 177.43it/s]\n",
      "Epoch 49: 100%|██████████| 25/25 [00:00<00:00, 174.44it/s]\n",
      "Epoch 50: 100%|██████████| 25/25 [00:00<00:00, 177.67it/s]\n",
      "Epoch 51: 100%|██████████| 25/25 [00:00<00:00, 143.40it/s]\n",
      "Epoch 52: 100%|██████████| 25/25 [00:00<00:00, 177.05it/s]\n",
      "Epoch 53: 100%|██████████| 25/25 [00:00<00:00, 176.23it/s]\n",
      "Epoch 54: 100%|██████████| 25/25 [00:00<00:00, 175.90it/s]\n",
      "Epoch 55: 100%|██████████| 25/25 [00:00<00:00, 178.09it/s]\n",
      "Epoch 56: 100%|██████████| 25/25 [00:00<00:00, 177.06it/s]\n",
      "Epoch 57: 100%|██████████| 25/25 [00:00<00:00, 177.88it/s]\n",
      "Epoch 58: 100%|██████████| 25/25 [00:00<00:00, 178.97it/s]\n",
      "Epoch 59: 100%|██████████| 25/25 [00:00<00:00, 178.53it/s]\n",
      "Epoch 60: 100%|██████████| 25/25 [00:00<00:00, 177.58it/s]\n",
      "Epoch 61: 100%|██████████| 25/25 [00:00<00:00, 177.57it/s]\n",
      "Epoch 62: 100%|██████████| 25/25 [00:00<00:00, 177.17it/s]\n",
      "Epoch 63: 100%|██████████| 25/25 [00:00<00:00, 177.64it/s]\n",
      "Epoch 64: 100%|██████████| 25/25 [00:00<00:00, 175.43it/s]\n",
      "Epoch 65: 100%|██████████| 25/25 [00:00<00:00, 178.40it/s]\n",
      "Epoch 66: 100%|██████████| 25/25 [00:00<00:00, 177.38it/s]\n",
      "Epoch 67: 100%|██████████| 25/25 [00:00<00:00, 176.60it/s]\n",
      "Epoch 68: 100%|██████████| 25/25 [00:00<00:00, 178.12it/s]\n",
      "Epoch 69: 100%|██████████| 25/25 [00:00<00:00, 177.13it/s]\n",
      "Epoch 70: 100%|██████████| 25/25 [00:00<00:00, 143.06it/s]\n",
      "Epoch 71: 100%|██████████| 25/25 [00:00<00:00, 177.49it/s]\n",
      "Epoch 72: 100%|██████████| 25/25 [00:00<00:00, 178.17it/s]\n",
      "Epoch 73: 100%|██████████| 25/25 [00:00<00:00, 177.16it/s]\n",
      "Epoch 74: 100%|██████████| 25/25 [00:00<00:00, 176.19it/s]\n",
      "Epoch 75: 100%|██████████| 25/25 [00:00<00:00, 177.13it/s]\n",
      "Epoch 76: 100%|██████████| 25/25 [00:00<00:00, 177.61it/s]\n",
      "Epoch 77: 100%|██████████| 25/25 [00:00<00:00, 178.09it/s]\n",
      "Epoch 78: 100%|██████████| 25/25 [00:00<00:00, 177.91it/s]\n",
      "Epoch 79: 100%|██████████| 25/25 [00:00<00:00, 175.23it/s]\n",
      "Epoch 80: 100%|██████████| 25/25 [00:00<00:00, 177.58it/s]\n",
      "Epoch 81: 100%|██████████| 25/25 [00:00<00:00, 178.73it/s]\n",
      "Epoch 82: 100%|██████████| 25/25 [00:00<00:00, 179.69it/s]\n",
      "Epoch 83: 100%|██████████| 25/25 [00:00<00:00, 179.39it/s]\n",
      "Epoch 84: 100%|██████████| 25/25 [00:00<00:00, 179.65it/s]\n",
      "Epoch 85: 100%|██████████| 25/25 [00:00<00:00, 177.77it/s]\n",
      "Epoch 86: 100%|██████████| 25/25 [00:00<00:00, 175.86it/s]\n",
      "Epoch 87: 100%|██████████| 25/25 [00:00<00:00, 179.53it/s]\n",
      "Epoch 88: 100%|██████████| 25/25 [00:00<00:00, 179.17it/s]\n",
      "Epoch 89: 100%|██████████| 25/25 [00:00<00:00, 177.55it/s]\n",
      "Epoch 90: 100%|██████████| 25/25 [00:00<00:00, 178.62it/s]\n",
      "Epoch 91: 100%|██████████| 25/25 [00:00<00:00, 179.32it/s]\n",
      "Epoch 92: 100%|██████████| 25/25 [00:00<00:00, 144.96it/s]\n",
      "Epoch 93: 100%|██████████| 25/25 [00:00<00:00, 176.50it/s]\n",
      "Epoch 94: 100%|██████████| 25/25 [00:00<00:00, 176.17it/s]\n",
      "Epoch 95: 100%|██████████| 25/25 [00:00<00:00, 177.74it/s]\n",
      "Epoch 96: 100%|██████████| 25/25 [00:00<00:00, 175.55it/s]\n",
      "Epoch 97: 100%|██████████| 25/25 [00:00<00:00, 174.06it/s]\n",
      "Epoch 98: 100%|██████████| 25/25 [00:00<00:00, 153.01it/s]\n",
      "Epoch 99: 100%|██████████| 25/25 [00:00<00:00, 176.38it/s]\n",
      "Epoch 100: 100%|██████████| 25/25 [00:00<00:00, 177.08it/s]\n",
      "Testing: 100%|██████████| 100/100 [00:00<00:00, 6019.29it/s]\n"
     ]
    }
   ],
   "source": [
    "_,_,model = train_and_test_model(standardize_info, input_size, SegmentQualityModel, 80, batch_size=16, num_epochs=100, lr=0.01, margin=1.0) "
   ]
  },
  {
   "cell_type": "code",
   "execution_count": 172,
   "metadata": {},
   "outputs": [
    {
     "data": {
      "text/plain": [
       "(0,\n",
       " [tensor(-0.1160, grad_fn=<SumBackward0>),\n",
       "  tensor(-0.0947, grad_fn=<SumBackward0>),\n",
       "  tensor(-0.1137, grad_fn=<SumBackward0>)])"
      ]
     },
     "execution_count": 172,
     "metadata": {},
     "output_type": "execute_result"
    }
   ],
   "source": [
    "def predict_best_route(model, start, end , openrouteservice_client):\n",
    "    start = (start[1], start[0])\n",
    "    end = (end[1], end[0])\n",
    "\n",
    "    route_info = openrouteservice_client.directions(\n",
    "        (start, end),\n",
    "        profile='driving-car',\n",
    "        format='geojson',\n",
    "        extra_info=attributes_list,\n",
    "        instructions_format='html',\n",
    "        alternative_routes= {\"share_factor\": 0.8,\"weight_factor\": 2,\"target_count\": 3},\n",
    "    )\n",
    "    # parse the route info\n",
    "    option_attributes, best_route_index = flattens_attributes(route_info)\n",
    "    # standardize the data\n",
    "    std_option_attributes = [standardize_data(option) for option in option_attributes]\n",
    "    # get score for each route\n",
    "    score_routes = []\n",
    "    for segments in std_option_attributes:\n",
    "        segments_tensor = torch.tensor(segments, dtype=torch.float32)\n",
    "        lengths = segments_tensor[:, -1].unsqueeze(1)\n",
    "        outputs = model(segments_tensor[:, :-1], lengths)\n",
    "        route_score = torch.sum(outputs)\n",
    "        score_routes.append(route_score)\n",
    "    best_route_index = torch.argmin(torch.stack(score_routes)).item()\n",
    "    return best_route_index, score_routes\n",
    "\n",
    "\n",
    "predict_best_route(model, start, end, client)"
   ]
  },
  {
   "cell_type": "code",
   "execution_count": 173,
   "metadata": {},
   "outputs": [
    {
     "name": "stdout",
     "output_type": "stream",
     "text": [
      "[tensor(-0.1160, grad_fn=<SumBackward0>), tensor(-0.0947, grad_fn=<SumBackward0>), tensor(-0.1137, grad_fn=<SumBackward0>)]\n"
     ]
    }
   ],
   "source": [
    "import folium\n",
    "\n",
    "start = (65.062795, 25.472358)  # Example: London (longitude, latitude)\n",
    "end = (65.013059, 25.485466)  # Example: near to Big Ben, London\n",
    "\n",
    "# Get the route from OpenRouteService API\n",
    "\n",
    "client_start = (start[1], start[0])\n",
    "client_end = (end[1], end[0])\n",
    "routes = client.directions(\n",
    "    (client_start,client_end),  # Start and end coordinates\n",
    "    profile='driving-car',  # Transportation type\n",
    "    alternative_routes= {\"share_factor\": 0.8,\"weight_factor\": 2,\"target_count\": 3},  # Request up to 3 alternative routes\n",
    "    format='geojson'\n",
    ")\n",
    "best_route_index, score_routes = predict_best_route(model, start, end, client)\n",
    "print(score_routes)\n",
    "# Initialize a folium map centered on the starting point\n",
    "\n",
    "m = folium.Map(location=start, zoom_start=14)\n",
    "\n",
    "# Add the route to the map\n",
    "chosen_route = routes['features'][best_route_index]\n",
    "folium.GeoJson(chosen_route).add_to(m)\n",
    "# folium.GeoJson(routes).add_to(m)\n",
    "\n",
    "# Add markers for start and end points\n",
    "folium.Marker(location=start, popup='Start: London').add_to(m)\n",
    "folium.Marker(location=end, popup='End: Big Ben').add_to(m)\n",
    "\n",
    "# Save the map to an HTML file\n",
    "m.save('route_map.html')"
   ]
  }
 ],
 "metadata": {
  "kernelspec": {
   "display_name": "ml",
   "language": "python",
   "name": "python3"
  },
  "language_info": {
   "codemirror_mode": {
    "name": "ipython",
    "version": 3
   },
   "file_extension": ".py",
   "mimetype": "text/x-python",
   "name": "python",
   "nbconvert_exporter": "python",
   "pygments_lexer": "ipython3",
   "version": "3.9.16"
  }
 },
 "nbformat": 4,
 "nbformat_minor": 2
}
